{
 "cells": [
  {
   "cell_type": "markdown",
   "metadata": {},
   "source": [
    "# Python II - Assignment 2\n",
    "\n",
    "This **Home Assignment** is to be submitted and you will be given points for each of the tasks. It familiarizes you with basics of *web scraping* and basics of *regular expressions*.\n",
    "\n",
    "## Formalities\n",
    "**Submit in a group of 2-3 people until 22.06.2020 23:59CET. The deadline is strict!**\n",
    "\n",
    "## Evaluation and Grading\n",
    "General advice for programming excercises at *CSSH*:\n",
    "Evaluation of your submission is done semi automatically. Think of it as this notebook being \n",
    "executed once. Afterwards, some test functions are appended to this file and executed respectively.\n",
    "\n",
    "Therefore:\n",
    "* Submit valid _Python3_ code only!\n",
    "* Use external libraries only when specified by task.\n",
    "* Ensure your definitions (functions, classes, methods, variables) follow the specification if\n",
    "  given. The concrete signature of e.g. a function usually can be inferred from task description, \n",
    "  code skeletons and test cases.\n",
    "* Ensure the notebook does not rely on current notebook or system state!\n",
    "  * Use `Kernel --> Restart & Run All` to see if you are using any definitions, variables etc. that \n",
    "    are not in scope anymore.\n",
    "  * Double check if your code relies on presence of files or directories other than those mentioned\n",
    "    in given tasks. Tests run under Linux, hence don't use Windows style paths \n",
    "    (`some\\path`, `C:\\another\\path`). Also, use paths only that are relative to and within your\n",
    "    working directory (OK: `some/path`, `./some/path`; NOT OK: `/home/alice/python`, \n",
    "    `../../python`).\n",
    "* Keep your code idempotent! Running it or parts of it multiple times must not yield different\n",
    "  results. Minimize usage of global variables.\n",
    "* Ensure your code / notebook terminates in reasonable time.\n",
    "\n",
    "**There's a story behind each of these points! Don't expect us to fix your stuff!**\n",
    "\n",
    "Regarding the scores, you will get no points for a task if:\n",
    "- your function throws an unexpected error (e.g. takes the wrong number of arguments)\n",
    "- gets stuck in an infinite loop\n",
    "- takes much much longer than expected (e.g. >1s to compute the mean of two numbers)\n",
    "- does not produce the desired output (e.g. returns an descendingly sorted list even though we asked for ascending, returns the mean and the std even though we asked for the mean only, only prints the output instead of returning it!)\n",
    "- ..."
   ]
  },
  {
   "cell_type": "markdown",
   "metadata": {},
   "source": [
    "# History in Wikipedia (10 points total)\n",
    "\n",
    "Wikipedia has a lot of information on historic events. Assume you want to conduct a study that examines which language edition talks more about different historic event (as indicated by years). As an example you first consider the article \"History_of_Germany\" in the englisch and german wikipedia.\n",
    "\n",
    "To get articles from the web, use the `requests` library. To deal with html content you can use the Beautiful soup library."
   ]
  },
  {
   "cell_type": "code",
   "execution_count": 2,
   "metadata": {},
   "outputs": [],
   "source": [
    "import requests\n",
    "from bs4 import BeautifulSoup\n",
    "import os\n",
    "import re"
   ]
  },
  {
   "cell_type": "markdown",
   "metadata": {},
   "source": [
    "## a) Grabbing a wikipedia article (1 + 0.5 + 0.5 + 0.5)\n",
    "Write a function `get_article_from_web(article_name, language_edition)` that returns the HTML as string for that article in a specific language edition. Assume that the article exists.\n",
    "\n",
    "To save bandwith when conducting multiple experiments we want to setup a cache of wikipedia articles.\n",
    "To setup the cache write the function `save_article_to_disk(article_name, language_edition, content)` that saves the content for that wikipedia article in `'./cache/{language_edition}/{article_name}.html'`. If any of the folders do not exist they are created. Please read the information on evaluation and grading.\n",
    "\n",
    "\n",
    "Then write a function `get_article_from_disk(article_name, language_edition)` that returns the cached version of the article from disk. If the article does not exists, it raises a `ValueError`.\n",
    "\n",
    "\n",
    "Write a function `get_article(article_name, language_edition)` that uses a local cache for fetching articles from wikipedia. So if you that article exists in cache it returns the cached version. If not it fetches the html for that article from the web and writes it to the cache so there is no need to get it from the web the next time. Thereby use the previously defined functions.\n",
    "\n",
    "Use the \"caching\" version `get_article` for all of the following tasks."
   ]
  },
  {
   "cell_type": "code",
   "execution_count": 3,
   "metadata": {},
   "outputs": [],
   "source": [
    "def get_article_from_web(article_name, language_edition):\n",
    "    global URL\n",
    "    URL = f\"https://{language_edition}.wikipedia.org/wiki/{article_name}\"\n",
    "    page = requests.get(url=URL,timeout=30)\n",
    "    soup = BeautifulSoup(page.content, 'html.parser')\n",
    "\n",
    "    return soup.prettify()"
   ]
  },
  {
   "cell_type": "code",
   "execution_count": 4,
   "metadata": {},
   "outputs": [],
   "source": [
    "def save_article_to_disk(article_name, language_edition, content):\n",
    "    try:\n",
    "        os.makedirs(f\"./cache/{language_edition}\")\n",
    "    except OSError:\n",
    "        pass\n",
    "    \n",
    "    my_file=open(f\"./cache/{language_edition}/{article_name}.html\",\"w\", encoding=\"utf-8\")\n",
    "    my_file.write(content)\n",
    "    my_file.close()\n"
   ]
  },
  {
   "cell_type": "code",
   "execution_count": 5,
   "metadata": {},
   "outputs": [],
   "source": [
    "def get_article_from_disk(article_name, language_edition):\n",
    "    try:\n",
    "        with open(f\"./cache/{language_edition}/{article_name}.html\",\"r\",encoding=\"utf-8\") as f:\n",
    "            return f.read()\n",
    "    except FileNotFoundError: \n",
    "        raise ValueError(\"The article does not exists\")\n",
    "\n"
   ]
  },
  {
   "cell_type": "code",
   "execution_count": 6,
   "metadata": {},
   "outputs": [],
   "source": [
    "def get_article(article_name, language_edition):\n",
    "    try:\n",
    "        return get_article_from_disk(article_name,language_edition)\n",
    "    except:\n",
    "        content=get_article_from_web(article_name,language_edition)\n",
    "        save_article_to_disk(article_name,language_edition,content)\n",
    "        return get_article_from_disk(article_name,language_edition)"
   ]
  },
  {
   "cell_type": "markdown",
   "metadata": {},
   "source": [
    "## b) Links from one article to other articles  (1)\n",
    "Write a function `get_links(article_name, language_edition)` that returns a list of wikipedia article names.  These links are obtained throught the article specified by `article_name` (in the language_edition). Only include links in its 'content' div. Do not include links that you can get through the left navigation bar.\n",
    "\n",
    "Sort the links in alphabetically increasing order."
   ]
  },
  {
   "cell_type": "code",
   "execution_count": 7,
   "metadata": {},
   "outputs": [],
   "source": [
    "def get_links(article_name, language_edition):\n",
    "    page_content = get_article(article_name, language_edition)\n",
    "    # convert the string file to soup\n",
    "    soup = BeautifulSoup(page_content, 'html.parser')\n",
    "    links = []\n",
    "    for link in soup.find_all(\"a\"):\n",
    "        l=str(link.get('href'))\n",
    "        if l.startswith(\"/w\") and ('Wikipedia' not in l) and ('index' not in l) and (\"File\" not in l):\n",
    "            b=f\"https://{language_edition}.wikipedia.org\"+l\n",
    "            if b not in links:\n",
    "                links.append(b)\n",
    "    return sorted(links)\n",
    "    "
   ]
  },
  {
   "cell_type": "code",
   "execution_count": 8,
   "metadata": {},
   "outputs": [
    {
     "output_type": "execute_result",
     "data": {
      "text/plain": "s://en.wikipedia.org/wiki/History_of_Anglo-Saxon_England',\n 'https://en.wikipedia.org/wiki/History_of_Armenia',\n 'https://en.wikipedia.org/wiki/History_of_Austria',\n 'https://en.wikipedia.org/wiki/History_of_Azerbaijan',\n 'https://en.wikipedia.org/wiki/History_of_Baden',\n 'https://en.wikipedia.org/wiki/History_of_Belarus',\n 'https://en.wikipedia.org/wiki/History_of_Belgium',\n 'https://en.wikipedia.org/wiki/History_of_Berlin',\n 'https://en.wikipedia.org/wiki/History_of_Bosnia_and_Herzegovina',\n 'https://en.wikipedia.org/wiki/History_of_Bulgaria',\n 'https://en.wikipedia.org/wiki/History_of_Christianity',\n 'https://en.wikipedia.org/wiki/History_of_Cologne',\n 'https://en.wikipedia.org/wiki/History_of_Croatia',\n 'https://en.wikipedia.org/wiki/History_of_Cyprus',\n 'https://en.wikipedia.org/wiki/History_of_Denmark',\n 'https://en.wikipedia.org/wiki/History_of_East_Germany',\n 'https://en.wikipedia.org/wiki/History_of_Estonia',\n 'https://en.wikipedia.org/wiki/History_of_Europe',\n 'https://en.wikipedia.org/wiki/History_of_Finland',\n 'https://en.wikipedia.org/wiki/History_of_France',\n 'https://en.wikipedia.org/wiki/History_of_Georgia_(country)',\n 'https://en.wikipedia.org/wiki/History_of_German_foreign_policy',\n 'https://en.wikipedia.org/wiki/History_of_German_journalism',\n 'https://en.wikipedia.org/wiki/History_of_German_women',\n 'https://en.wikipedia.org/wiki/History_of_Germany',\n 'https://en.wikipedia.org/wiki/History_of_Germany_(1945%E2%80%931990)',\n 'https://en.wikipedia.org/wiki/History_of_Germany_(1945%E2%80%9390)',\n 'https://en.wikipedia.org/wiki/History_of_Germany_during_World_War_I',\n 'https://en.wikipedia.org/wiki/History_of_Germany_since_1990',\n 'https://en.wikipedia.org/wiki/History_of_Gibraltar',\n 'https://en.wikipedia.org/wiki/History_of_Greece',\n 'https://en.wikipedia.org/wiki/History_of_Guernsey',\n 'https://en.wikipedia.org/wiki/History_of_Hamburg',\n 'https://en.wikipedia.org/wiki/History_of_Hanover',\n 'https://en.wikipedia.org/wiki/History_of_Hungary',\n 'https://en.wikipedia.org/wiki/History_of_Iceland',\n 'https://en.wikipedia.org/wiki/History_of_Italy',\n 'https://en.wikipedia.org/wiki/History_of_Jersey',\n 'https://en.wikipedia.org/wiki/History_of_Kazakhstan',\n 'https://en.wikipedia.org/wiki/History_of_Kosovo',\n 'https://en.wikipedia.org/wiki/History_of_Latvia',\n 'https://en.wikipedia.org/wiki/History_of_Liechtenstein',\n 'https://en.wikipedia.org/wiki/History_of_Lithuania',\n 'https://en.wikipedia.org/wiki/History_of_Luxembourg',\n 'https://en.wikipedia.org/wiki/History_of_Malta',\n 'https://en.wikipedia.org/wiki/History_of_Moldova',\n 'https://en.wikipedia.org/wiki/History_of_Monaco',\n 'https://en.wikipedia.org/wiki/History_of_Montenegro',\n 'https://en.wikipedia.org/wiki/History_of_North_Macedonia',\n 'https://en.wikipedia.org/wiki/History_of_Northern_Cyprus',\n 'https://en.wikipedia.org/wiki/History_of_Norway',\n 'https://en.wikipedia.org/wiki/History_of_Poland',\n 'https://en.wikipedia.org/wiki/History_of_Portugal',\n 'https://en.wikipedia.org/wiki/History_of_Romania',\n 'https://en.wikipedia.org/wiki/History_of_Russia',\n 'https://en.wikipedia.org/wiki/History_of_San_Marino',\n 'https://en.wikipedia.org/wiki/History_of_Serbia',\n 'https://en.wikipedia.org/wiki/History_of_Slovakia',\n 'https://en.wikipedia.org/wiki/History_of_Slovenia',\n 'https://en.wikipedia.org/wiki/History_of_South_Ossetia',\n 'https://en.wikipedia.org/wiki/History_of_Spain',\n 'https://en.wikipedia.org/wiki/History_of_Svalbard',\n 'https://en.wikipedia.org/wiki/History_of_Sweden',\n 'https://en.wikipedia.org/wiki/History_of_Switzerland',\n 'https://en.wikipedia.org/wiki/History_of_Transnistria',\n 'https://en.wikipedia.org/wiki/History_of_Turkey',\n 'https://en.wikipedia.org/wiki/History_of_Ukraine',\n 'https://en.wikipedia.org/wiki/History_of_Vatican_City',\n 'https://en.wikipedia.org/wiki/History_of_W%C3%BCrttemberg',\n 'https://en.wikipedia.org/wiki/History_of_Western_civilization',\n 'https://en.wikipedia.org/wiki/History_of_newspapers_and_magazines#Germany',\n 'https://en.wikipedia.org/wiki/History_of_rail_transport_in_Germany',\n 'https://en.wikipedia.org/wiki/History_of_socialism',\n 'https://en.wikipedia.org/wiki/History_of_the_%C3%85land_Islands',\n 'https://en.wikipedia.org/wiki/History_of_the_Czech_Republic',\n 'https://en.wikipedia.org/wiki/History_of_the_European_Union',\n 'https://en.wikipedia.org/wiki/History_of_the_Faroe_Islands',\n 'https://en.wikipedia.org/wiki/History_of_the_Isle_of_Man',\n 'https://en.wikipedia.org/wiki/History_of_the_Jews_in_Germany',\n 'https://en.wikipedia.org/wiki/History_of_the_Jews_in_Germany#Jews_under_the_Nazis_(1933–45)',\n 'https://en.wikipedia.org/wiki/History_of_the_Mediterranean_region',\n 'https://en.wikipedia.org/wiki/History_of_the_Netherlands',\n 'https://en.wikipedia.org/wiki/History_of_the_Republic_of_Artsakh',\n 'https://en.wikipedia.org/wiki/History_of_the_Republic_of_Ireland',\n 'https://en.wikipedia.org/wiki/History_of_the_United_Kingdom',\n 'https://en.wikipedia.org/wiki/Hofkriegsrat',\n 'https://en.wikipedia.org/wiki/Hohenstaufen',\n 'https://en.wikipedia.org/wiki/Hohenstaufen_dynasty',\n 'https://en.wikipedia.org/wiki/Holborn,_Hajo',\n 'https://en.wikipedia.org/wiki/Holocaust',\n 'https://en.wikipedia.org/wiki/Holt,_Rinehart_and_Winston',\n 'https://en.wikipedia.org/wiki/Holy_League_(1684)',\n 'https://en.wikipedia.org/wiki/Holy_Roman_Emperor',\n 'https://en.wikipedia.org/wiki/Holy_Roman_Empire',\n 'https://en.wikipedia.org/wiki/Holy_See',\n 'https://en.wikipedia.org/wiki/Homo_sapiens',\n 'https://en.wikipedia.org/wiki/House_of_Habsburg',\n 'https://en.wikipedia.org/wiki/House_of_Hohenstaufen',\n 'https://en.wikipedia.org/wiki/House_of_Welf',\n 'https://en.wikipedia.org/wiki/Huguenots',\n 'https://en.wikipedia.org/wiki/Human_rights_in_Germany',\n 'https://en.wikipedia.org/wiki/Humboldt_University_of_Berlin',\n 'https://en.wikipedia.org/wiki/Hundred_Years%27_War',\n 'https://en.wikipedia.org/wiki/Huns',\n 'https://en.wikipedia.org/wiki/Hunsr%C3%BCck',\n 'https://en.wikipedia.org/wiki/Hussite_Wars',\n 'https://en.wikipedia.org/wiki/Hymnody_of_continental_Europe#Rationalism',\n 'https://en.wikipedia.org/wiki/Hyperinflation',\n 'https://en.wikipedia.org/wiki/ISBN_(identifier)',\n 'https://en.wikipedia.org/wiki/ISSN_(identifier)',\n 'https://en.wikipedia.org/wiki/Ian_Kershaw',\n 'https://en.wikipedia.org/wiki/Ian_S._Wood',\n 'https://en.wikipedia.org/wiki/Ignatius_of_Loyola',\n 'https://en.wikipedia.org/wiki/Illumination_(manuscript)',\n 'https://en.wikipedia.org/wiki/Immanuel_Kant',\n 'https://en.wikipedia.org/wiki/Immigration_to_Germany',\n 'https://en.wikipedia.org/wiki/Imperial_Diet_(Holy_Roman_Empire)',\n 'https://en.wikipedia.org/wiki/Imperial_Estate',\n 'https://en.wikipedia.org/wiki/Imperial_Free_City',\n 'https://en.wikipedia.org/wiki/Imperial_Reform',\n 'https://en.wikipedia.org/wiki/Independent_Social_Democratic_Party_of_Germany',\n 'https://en.wikipedia.org/wiki/Index_of_Germany-related_articles',\n 'https://en.wikipedia.org/wiki/Indo-Europeans',\n 'https://en.wikipedia.org/wiki/Indonesia',\n 'https://en.wikipedia.org/wiki/Indulgence',\n 'https://en.wikipedia.org/wiki/Indulgences',\n 'https://en.wikipedia.org/wiki/Industrial_Revolution',\n 'https://en.wikipedia.org/wiki/Industrial_plans_for_Germany',\n 'https://en.wikipedia.org/wiki/Inflation',\n 'https://en.wikipedia.org/wiki/International_Security_Assistance_Force',\n 'https://en.wikipedia.org/wiki/Internet_in_Germany',\n 'https://en.wikipedia.org/wiki/Intersex_rights_in_Germany',\n 'https://en.wikipedia.org/wiki/Interwar_period',\n 'https://en.wikipedia.org/wiki/Invasion_of_Normandy',\n 'https://en.wikipedia.org/wiki/Invasion_of_Poland',\n 'https://en.wikipedia.org/wiki/Invasion_of_Yugoslavia',\n 'https://en.wikipedia.org/wiki/Investiture_Controversy',\n 'https://en.wikipedia.org/wiki/Iranian_peoples',\n 'https://en.wikipedia.org/wiki/Iron_Age',\n 'https://en.wikipedia.org/wiki/Iron_Age_Europe',\n 'https://en.wikipedia.org/wiki/Iron_Curtain',\n 'https://en.wikipedia.org/wiki/Isaac_Newton',\n 'https://en.wikipedia.org/wiki/Isabella_II',\n 'https://en.wikipedia.org/wiki/Israel',\n 'https://en.wikipedia.org/wiki/J%C3%BCrgen_Kocka',\n 'https://en.wikipedia.org/wiki/JSTOR_(identifier)',\n 'https://en.wikipedia.org/wiki/Jacob_Fugger',\n 'https://en.wikipedia.org/wiki/Japan',\n 'https://en.wikipedia.org/wiki/Jiaozhou_Bay',\n 'https://en.wikipedia.org/wiki/Jim_Bradbury',\n 'https://en.wikipedia.org/wiki/Johann_Gottfried_Herder',\n 'https://en.wikipedia.org/wiki/Johann_Gottfried_von_Herder',\n 'https://en.wikipedia.org/wiki/Johann_Sebastian_Bach',\n 'https://en.wikipedia.org/wiki/Johann_Wolfgang_von_Goethe',\n 'https://en.wikipedia.org/wiki/Johannes_Gutenberg',\n 'https://en.wikipedia.org/wiki/Johannes_Kepler',\n 'https://en.wikipedia.org/wiki/Johannes_Stark',\n 'https://en.wikipedia.org/wiki/John_Wiley_%26_Sons',\n 'https://en.wikipedia.org/wiki/Jos%C3%A9_Barroso',\n 'https://en.wikipedia.org/wiki/Joseph_Goebbels',\n 'https://en.wikipedia.org/wiki/Joseph_Haydn',\n 'https://en.wikipedia.org/wiki/Joseph_Stalin',\n 'https://en.wikipedia.org/wiki/Joseph_de_Maistre',\n 'https://en.wikipedia.org/wiki/Joseph_von_Fraunhofer',\n 'https://en.wikipedia.org/wiki/Judiciary_of_Germany',\n 'https://en.wikipedia.org/wiki/Julius_Caesar',\n 'https://en.wikipedia.org/wiki/Junker',\n 'https://en.wikipedia.org/wiki/Justus_von_Liebig',\n 'https://en.wikipedia.org/wiki/Jutland',\n 'https://en.wikipedia.org/wiki/K%C3%B6nigsberg',\n 'https://en.wikipedia.org/wiki/Kaliningrad_oblast',\n 'https://en.wikipedia.org/wiki/Kalmar_Union',\n 'https://en.wikipedia.org/wiki/Kamerun',\n 'https://en.wikipedia.org/wiki/Kapp_Putsch',\n 'https://en.wikipedia.org/wiki/Karl_Benz',\n 'https://en.wikipedia.org/wiki/Karl_Liebknecht',\n 'https://en.wikipedia.org/wiki/Karl_Marx',\n 'https://en.wikipedia.org/wiki/Kemna_concentration_camp',\n 'https://en.wikipedia.org/wiki/Kepler%27s_laws_of_planetary_motion',\n 'https://en.wikipedia.org/wiki/Kievan_Rus%27',\n 'https://en.wikipedia.org/wiki/King_of_Bohemia',\n 'https://en.wikipedia.org/wiki/King_of_the_Lombards',\n 'https://en.wikipedia.org/wiki/Kingdom_of_Bavaria',\n 'https://en.wikipedia.org/wiki/Kingdom_of_Bohemia',\n 'https://en.wikipedia.org/wiki/Kingdom_of_Bohemia_(1526-1648)',\n 'https://en.wikipedia.org/wiki/Kingdom_of_Croatia_(925%E2%80%931102)',\n 'https://en.wikipedia.org/wiki/Kingdom_of_Denmark',\n 'https://en.wikipedia.org/wiki/Kingdom_of_Georgia',\n 'https://en.wikipedia.org/wiki/Kingdom_of_Germany',\n 'https://en.wikipedia.org/wiki/Kingdom_of_Hungary',\n 'https://en.wikipedia.org/wiki/Kingdom_of_Hungary_(1526%E2%80%931867)',\n 'https://en.wikipedia.org/wiki/Kingdom_of_Italy',\n 'https://en.wikipedia.org/wiki/Kingdom_of_Poland_(1025%E2%80%931385)',\n 'https://en.wikipedia.org/wiki/Kingdom_of_Poland_(1138%E2%80%931320)',\n 'https://en.wikipedia.org/wiki/Kingdom_of_Prussia',\n 'https://en.wikipedia.org/wiki/Kingdom_of_W%C3%BCrttemberg',\n 'https://en.wikipedia.org/wiki/Kingdom_of_Westphalia',\n 'https://en.wikipedia.org/wiki/Kingdom_of_the_Burgundians',\n 'https://en.wikipedia.org/wiki/Kingdom_of_the_Franks',\n 'https://en.wikipedia.org/wiki/Kingdom_of_the_Lombards',\n 'https://en.wikipedia.org/wiki/Klaip%C4%97da',\n 'https://en.wikipedia.org/wiki/Klaip%C4%97da_Region',\n 'https://en.wikipedia.org/wiki/Kleinstaaterei',\n 'https://en.wikipedia.org/wiki/Klemens_Wenzel_von_Metternich',\n 'https://en.wikipedia.org/wiki/Knights_Hospitaller',\n 'https://en.wikipedia.org/wiki/Knights_Templar',\n 'https://en.wikipedia.org/wiki/Kohlhammer_Verlag',\n 'https://en.wikipedia.org/wiki/Konrad_Adenauer',\n 'https://en.wikipedia.org/wiki/Konrad_I_of_Masovia',\n 'https://en.wikipedia.org/wiki/Kristallnacht',\n 'https://en.wikipedia.org/wiki/Krupp',\n 'https://en.wikipedia.org/wiki/Kulturkampf',\n 'https://en.wikipedia.org/wiki/Kurt_Kiesinger',\n 'https://en.wikipedia.org/wiki/Kurt_von_Schleicher',\n 'https://en.wikipedia.org/wiki/L%C3%B6wenmensch_figurine',\n 'https://en.wikipedia.org/wiki/L%C3%BCbeck',\n 'https://en.wikipedia.org/wiki/LGBT_rights_in_Germany',\n 'https://en.wikipedia.org/wiki/Landgraviate_of_Hesse-Kassel',\n 'https://en.wikipedia.org/wiki/Late-2000s_recession',\n 'https://en.wikipedia.org/wiki/Late_Middle_Ages',\n 'https://en.wikipedia.org/wiki/Late_antiquity',\n 'https://en.wikipedia.org/wiki/Law_enforcement_in_Germany',\n 'https://en.wikipedia.org/wiki/Law_for_the_Restoration_of_the_Professional_Civil_Service',\n 'https://en.wikipedia.org/wiki/Law_of_Germany',\n 'https://en.wikipedia.org/wiki/Leadership_of_East_Germany',\n 'https://en.wikipedia.org/wiki/League_of_Nations',\n 'https://en.wikipedia.org/wiki/League_of_Nations_mandate',\n 'https://en.wikipedia.org/wiki/League_of_Three_Emperors',\n 'https://en.wikipedia.org/wiki/Lebensborn',\n 'https://en.wikipedia.org/wiki/Leopold,_Prince_of_Hohenzollern-Sigmaringen',\n 'https://en.wikipedia.org/wiki/Leopold_von_Ranke',\n 'https://en.wikipedia.org/wiki/Lesser_Germany',\n 'https://en.wikipedia.org/wiki/Liberalism_in_Germany',\n 'https://en.wikipedia.org/wiki/Limes_(Roman_Empire)',\n 'https://en.wikipedia.org/wiki/Limes_Germanicus',\n 'https://en.wikipedia.org/wiki/List_of_Chancellors_of_Germany',\n 'https://en.wikipedia.org/wiki/List_of_Counts_Palatine_of_the_Rhine',\n 'https://en.wikipedia.org/wiki/List_of_German_monarchs',\n 'https://en.wikipedia.org/wiki/List_of_German_states_by_GDP',\n 'https://en.wikipedia.org/wiki/List_of_Nobel_Peace_Prize_laureates',\n 'https://en.wikipedia.org/wiki/List_of_World_Heritage_Sites_in_Germany',\n 'https://en.wikipedia.org/wiki/List_of_cities_and_towns_in_Germany',\n 'https://en.wikipedia.org/wiki/List_of_cultural_icons_of_Germany',\n 'https://en.wikipedia.org/wiki/List_of_earthquakes_in_Germany',\n 'https://en.wikipedia.org/wiki/List_of_exports_of_Germany',\n 'https://en.wikipedia.org/wiki/List_of_islands_of_Germany',\n 'https://en.wikipedia.org/wiki/List_of_lakes_of_Germany',\n 'https://en.wikipedia.org/wiki/List_of_libraries_in_Germany',\n 'https://en.wikipedia.org/wiki/List_of_political_parties_in_Germany',\n 'https://en.wikipedia.org/wiki/List_of_states_in_the_Holy_Roman_Empire',\n 'https://en.wikipedia.org/wiki/Lithuania',\n 'https://en.wikipedia.org/wiki/Little_Ice_Age',\n 'https://en.wikipedia.org/wiki/Liutprand,_King_of_the_Lombards',\n 'https://en.wikipedia.org/wiki/Lombard_League',\n 'https://en.wikipedia.org/wiki/Lombards',\n 'https://en.wikipedia.org/wiki/London',\n 'https://en.wikipedia.org/wiki/Lorraine_(duchy)',\n 'https://en.wikipedia.org/wiki/Lothair_II,_Holy_Roman_Emperor',\n 'https://en.wikipedia.org/wiki/Louis_II_of_Hungary_and_Bohemia',\n 'https://en.wikipedia.org/wiki/Louis_IV,_Holy_Roman_Emperor',\n 'https://en.wikipedia.org/wiki/Louis_XIV_of_France',\n 'https://en.wikipedia.org/wiki/Louis_the_German',\n 'https://en.wikipedia.org/wiki/Low_Countries',\n 'https://en.wikipedia.org/wiki/Lower_Saxony',\n 'https://en.wikipedia.org/wiki/Lucas_Cranach_the_Elder',\n 'https://en.wikipedia.org/wiki/Ludwig_Erhard',\n 'https://en.wikipedia.org/wiki/Ludwig_van_Beethoven',\n 'https://en.wikipedia.org/wiki/Ludwigsburg_Palace',\n 'https://en.wikipedia.org/wiki/Ludwigshafen',\n 'https://en.wikipedia.org/wiki/Luftwaffe',\n 'https://en.wikipedia.org/wiki/Lusatia',\n 'https://en.wikipedia.org/wiki/Lutheran_Church%E2%80%93Missouri_Synod',\n 'https://en.wikipedia.org/wiki/Lutheranism',\n 'https://en.wikipedia.org/wiki/Luxembourg',\n 'https://en.wikipedia.org/wiki/Magdeburg',\n 'https://en.wikipedia.org/wiki/Magyars',\n 'https://en.wikipedia.org/wiki/Main_Page',\n 'https://en.wikipedia.org/wiki/Mainz',\n 'https://en.wikipedia.org/wiki/Malbork_Castle',\n 'https://en.wikipedia.org/wiki/Manorialism',\n 'https://en.wikipedia.org/wiki/March_(territory)',\n 'https://en.wikipedia.org/wiki/March_(territory)#Germany_and_Austria',\n 'https://en.wikipedia.org/wiki/March_1933_German_federal_election',\n 'https://en.wikipedia.org/wiki/March_of_Austria',\n 'https://en.wikipedia.org/wiki/Marches',\n 'https://en.wikipedia.org/wiki/Margrave',\n 'https://en.wikipedia.org/wiki/Margrave_of_Brandenburg',\n 'https://en.wikipedia.org/wiki/Margraviate_of_Austria',\n 'https://en.wikipedia.org/wiki/Margraviate_of_Brandenburg',\n 'https://en.wikipedia.org/wiki/Maria_Theresa_of_Austria',\n 'https://en.wikipedia.org/wiki/Mariana_Islands',\n 'https://en.wikipedia.org/wiki/Maritime_history_of_Europe',\n 'https://en.wikipedia.org/wiki/Maritime_republics',\n 'https://en.wikipedia.org/wiki/Market_economy',\n 'https://en.wikipedia.org/wiki/Marne_(river)',\n 'https://en.wikipedia.org/wiki/Marshall_Islands',\n 'https://en.wikipedia.org/wiki/Marshall_Plan',\n 'https://en.wikipedia.org/wiki/Martin_Heidegger',\n 'https://en.wikipedia.org/wiki/Martin_Luther',\n 'https://en.wikipedia.org/wiki/Mathematician',\n 'https://en.wikipedia.org/wiki/Matth%C3%A4us_Merian',\n 'https://en.wikipedia.org/wiki/Matthias,_Holy_Roman_Emperor',\n 'https://en.wikipedia.org/wiki/Mauer_1',\n 'https://en.wikipedia.org/wiki/Max_Planck',\n 'https://en.wikipedia.org/wiki/Max_Scheler',\n 'https://en.wikipedia.org/wiki/Max_Weber',\n 'https://en.wikipedia.org/wiki/Maximilian_I,_Holy_Roman_Emperor',\n 'https://en.wikipedia.org/wiki/Mayor_of_the_Palace',\n 'https://en.wikipedia.org/wiki/Media_of_Germany',\n 'https://en.wikipedia.org/wiki/Medieval_Warm_Period',\n 'https://en.wikipedia.org/wiki/Medieval_architecture',\n 'https://en.wikipedia.org/wiki/Medieval_art',\n 'https://en.wikipedia.org/wiki/Medieval_commune',\n 'https://en.wikipedia.org/wiki/Medieval_cuisine',\n 'https://en.wikipedia.org/wiki/Medieval_demography',\n 'https://en.wikipedia.org/wiki/Medieval_household',\n 'https://en.wikipedia.org/wiki/Medieval_literature',\n 'https://en.wikipedia.org/wiki/Medieval_medicine_of_Western_Europe',\n 'https://en.wikipedia.org/wiki/Medieval_music',\n 'https://en.wikipedia.org/wiki/Medieval_philosophy',\n 'https://en.wikipedia.org/wiki/Medieval_poetry',\n 'https://en.wikipedia.org/wiki/Medieval_reenactment',\n 'https://en.wikipedia.org/wiki/Medieval_studies',\n 'https://en.wikipedia.org/wiki/Medieval_technology',\n 'https://en.wikipedia.org/wiki/Medieval_university',\n 'https://en.wikipedia.org/wiki/Medieval_warfare',\n 'https://en.wikipedia.org/wiki/Medievalism',\n 'https://en.wikipedia.org/wiki/Mediterranean',\n 'https://en.wikipedia.org/wiki/Medium-range_ballistic_missile',\n 'https://en.wikipedia.org/wiki/Memel_Statute',\n 'https://en.wikipedia.org/wiki/Merchant',\n 'https://en.wikipedia.org/wiki/Merian_family',\n 'https://en.wikipedia.org/wiki/Merovingian',\n 'https://en.wikipedia.org/wiki/Merovingian_dynasty',\n 'https://en.wikipedia.org/wiki/Metallurgy',\n 'https://en.wikipedia.org/wiki/Michael_Wolgemut',\n 'https://en.wikipedia.org/wiki/Middle_Ages',\n 'https://en.wikipedia.org/wiki/Middle_East',\n 'https://en.wikipedia.org/wiki/Middle_Francia',\n 'https://en.wikipedia.org/wiki/Middle_German_Chemical_Triangle',\n 'https://en.wikipedia.org/wiki/Middle_High_German',\n 'https://en.wikipedia.org/wiki/Middle_class',\n 'https://en.wikipedia.org/wiki/Migration_Period',\n 'https://en.wikipedia.org/wiki/Mikhail_Gorbachev',\n 'https://en.wikipedia.org/wiki/Military_history_of_Europe',\n 'https://en.wikipedia.org/wiki/Military_history_of_Germany',\n 'https://en.wikipedia.org/wiki/Military_history_of_the_United_States_during_World_War_II',\n 'https://en.wikipedia.org/wiki/Mineralogy',\n 'https://en.wikipedia.org/wiki/Ministerialis',\n 'https://en.wikipedia.org/wiki/Minnesinger',\n 'https://en.wikipedia.org/wiki/Miracle_of_the_House_of_Brandenburg',\n 'https://en.wikipedia.org/wiki/Mittelstand',\n 'https://en.wikipedia.org/wiki/Modern_history#Europe',\n 'https://en.wikipedia.org/wiki/Mogontiacum',\n 'https://en.wikipedia.org/wiki/Molotov%E2%80%93Ribbentrop_Pact',\n 'https://en.wikipedia.org/wiki/Monday_demonstrations_in_East_Germany',\n 'https://en.wikipedia.org/wiki/Mongol_invasion_of_Europe',\n 'https://en.wikipedia.org/wiki/Monument_to_the_Battle_of_the_Nations',\n 'https://en.wikipedia.org/wiki/Morality_play',\n 'https://en.wikipedia.org/wiki/Motion_of_confidence',\n 'https://en.wikipedia.org/wiki/Movable_type',\n 'https://en.wikipedia.org/wiki/Munich',\n 'https://en.wikipedia.org/wiki/Munich_Agreement',\n 'https://en.wikipedia.org/wiki/Music_of_Germany',\n 'https://en.wikipedia.org/wiki/Muzzle-loading_rifle',\n ...]"
     },
     "metadata": {},
     "execution_count": 8
    }
   ],
   "source": [
    "get_links(\"History_of_Germany\",\"en\")"
   ]
  },
  {
   "cell_type": "markdown",
   "metadata": {},
   "source": [
    "## c) Getting the same article in a different language edition (1.0)\n",
    "Write a funciton `switch_language(article_name, old_language_edition, new_language_edition)` that returns the name of the wikipedia article in the new language edition."
   ]
  },
  {
   "cell_type": "code",
   "execution_count": 21,
   "metadata": {},
   "outputs": [],
   "source": [
    "def switch_language(article_name, old_language_edition, new_language_edition):\n",
    "    page_content = get_article(article_name, old_language_edition)\n",
    "    # convert the string file to soup\n",
    "    soup = BeautifulSoup(page_content, 'html.parser')\n",
    "    wiki_new_lang = soup.find_all(class_=\"interlanguage-link-target\",lang=new_language_edition)\n",
    "    new_name_article = \" \".join(wiki_new_lang[0]['title'].split()[:-2]) \n",
    "    return new_name_article"
   ]
  },
  {
   "cell_type": "code",
   "execution_count": 22,
   "metadata": {},
   "outputs": [
    {
     "output_type": "execute_result",
     "data": {
      "text/plain": "'Geschichte Deutschlands'"
     },
     "metadata": {},
     "execution_count": 22
    }
   ],
   "source": [
    "switch_language(\"History_of_Germany\",\"en\",\"de\")"
   ]
  },
  {
   "cell_type": "markdown",
   "metadata": {},
   "source": [
    "## d) Using regular expressions to extract years from a page content (1.5)\n",
    "Write a function `extract_years(string_input)` that gets a string and returns how often a certain year number from 1000-2019 occurs. You can assume that each number between 1000 and 2020 is a year number. The result is a dictionary with year numbers as keys, and the number of occurrences as values.\n",
    "\n",
    "Example: `extract_years(\"The king reigned from 1245 to 1268. He died in 1268. His favorite number was 12689\")` should return the dictionary `{1245: 1, 1268:2}`"
   ]
  },
  {
   "cell_type": "code",
   "execution_count": null,
   "metadata": {},
   "outputs": [],
   "source": []
  },
  {
   "cell_type": "markdown",
   "metadata": {},
   "source": [
    "## e) Aggregate years for articles (0.5)\n",
    "Write a function `extract_years_for_articles(article_names, language_edition)` that extracts the years counts for all the articles in that particular language edition and aggregates them into a single dictionary. This aggregated dictionary is returned."
   ]
  },
  {
   "cell_type": "code",
   "execution_count": null,
   "metadata": {},
   "outputs": [],
   "source": []
  },
  {
   "cell_type": "markdown",
   "metadata": {},
   "source": [
    "## f) Bringing it all together (1.5)\n",
    "Write a function `get_all_years(base_article, base_language_edition, n=None, target_language_edition=None)`\n",
    "\n",
    "- Determines 'real' base article (if target_language edition is specified, the article in the target language edition is used.)\n",
    "- extracts the first n links (all if n is None) from that 'real' base article\n",
    "- aggregates the year counts across the base article **and** all the n articles that the base article links to.\n",
    "- it then returns that dictionary"
   ]
  },
  {
   "cell_type": "code",
   "execution_count": null,
   "metadata": {},
   "outputs": [],
   "source": []
  },
  {
   "cell_type": "markdown",
   "metadata": {},
   "source": [
    "## g) Visualize and Interpret your results (1 + 1)\n",
    "Visualize the numbers of occurrences for the article History_of_Germany in both englisch (en) and german (de) in a timeline. Use `n=20`. Show the results here in the notebook and also save it to 'timeline.png' in code. Make sure the plot has a legend, axis labels, ...\n",
    "\n",
    "Describe the visualization, and give reasons for possible differences of the german and englisch timelines. Write that string to a file 'timeline.txt'"
   ]
  },
  {
   "cell_type": "code",
   "execution_count": null,
   "metadata": {},
   "outputs": [],
   "source": []
  },
  {
   "cell_type": "code",
   "execution_count": null,
   "metadata": {},
   "outputs": [],
   "source": []
  }
 ],
 "metadata": {
  "kernelspec": {
   "display_name": "Python 3.8.2 32-bit",
   "language": "python",
   "name": "python38232bit3359227b3fb8457c8cb9ee258c2345d7"
  },
  "language_info": {
   "codemirror_mode": {
    "name": "ipython",
    "version": 3
   },
   "file_extension": ".py",
   "mimetype": "text/x-python",
   "name": "python",
   "nbconvert_exporter": "python",
   "pygments_lexer": "ipython3",
   "version": "3.8.2-final"
  },
  "toc": {
   "colors": {
    "hover_highlight": "#DAA520",
    "navigate_num": "#000000",
    "navigate_text": "#333333",
    "running_highlight": "#FF0000",
    "selected_highlight": "#FFD700",
    "sidebar_border": "#EEEEEE",
    "wrapper_background": "#FFFFFF"
   },
   "moveMenuLeft": true,
   "nav_menu": {
    "height": "279px",
    "width": "252px"
   },
   "navigate_menu": true,
   "number_sections": true,
   "sideBar": true,
   "threshold": 4,
   "toc_cell": false,
   "toc_section_display": "block",
   "toc_window_display": false,
   "widenNotebook": false
  },
  "varInspector": {
   "cols": {
    "lenName": 16,
    "lenType": 16,
    "lenVar": 40
   },
   "kernels_config": {
    "python": {
     "delete_cmd_postfix": "",
     "delete_cmd_prefix": "del ",
     "library": "var_list.py",
     "varRefreshCmd": "print(var_dic_list())"
    },
    "r": {
     "delete_cmd_postfix": ") ",
     "delete_cmd_prefix": "rm(",
     "library": "var_list.r",
     "varRefreshCmd": "cat(var_dic_list()) "
    }
   },
   "types_to_exclude": [
    "module",
    "function",
    "builtin_function_or_method",
    "instance",
    "_Feature"
   ],
   "window_display": false
  }
 },
 "nbformat": 4,
 "nbformat_minor": 2
}