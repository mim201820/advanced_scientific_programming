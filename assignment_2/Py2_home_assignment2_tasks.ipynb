{
 "cells": [
  {
   "cell_type": "markdown",
   "metadata": {},
   "source": [
    "# Python II - Assignment 2\n",
    "\n",
    "This **Home Assignment** is to be submitted and you will be given points for each of the tasks. It familiarizes you with basics of *web scraping* and basics of *regular expressions*.\n",
    "\n",
    "## Formalities\n",
    "**Submit in a group of 2-3 people until 22.06.2020 23:59CET. The deadline is strict!**\n",
    "\n",
    "## Evaluation and Grading\n",
    "General advice for programming excercises at *CSSH*:\n",
    "Evaluation of your submission is done semi automatically. Think of it as this notebook being \n",
    "executed once. Afterwards, some test functions are appended to this file and executed respectively.\n",
    "\n",
    "Therefore:\n",
    "* Submit valid _Python3_ code only!\n",
    "* Use external libraries only when specified by task.\n",
    "* Ensure your definitions (functions, classes, methods, variables) follow the specification if\n",
    "  given. The concrete signature of e.g. a function usually can be inferred from task description, \n",
    "  code skeletons and test cases.\n",
    "* Ensure the notebook does not rely on current notebook or system state!\n",
    "  * Use `Kernel --> Restart & Run All` to see if you are using any definitions, variables etc. that \n",
    "    are not in scope anymore.\n",
    "  * Double check if your code relies on presence of files or directories other than those mentioned\n",
    "    in given tasks. Tests run under Linux, hence don't use Windows style paths \n",
    "    (`some\\path`, `C:\\another\\path`). Also, use paths only that are relative to and within your\n",
    "    working directory (OK: `some/path`, `./some/path`; NOT OK: `/home/alice/python`, \n",
    "    `../../python`).\n",
    "* Keep your code idempotent! Running it or parts of it multiple times must not yield different\n",
    "  results. Minimize usage of global variables.\n",
    "* Ensure your code / notebook terminates in reasonable time.\n",
    "\n",
    "**There's a story behind each of these points! Don't expect us to fix your stuff!**\n",
    "\n",
    "Regarding the scores, you will get no points for a task if:\n",
    "- your function throws an unexpected error (e.g. takes the wrong number of arguments)\n",
    "- gets stuck in an infinite loop\n",
    "- takes much much longer than expected (e.g. >1s to compute the mean of two numbers)\n",
    "- does not produce the desired output (e.g. returns an descendingly sorted list even though we asked for ascending, returns the mean and the std even though we asked for the mean only, only prints the output instead of returning it!)\n",
    "- ..."
   ]
  },
  {
   "cell_type": "markdown",
   "metadata": {},
   "source": [
    "# History in Wikipedia (10 points total)\n",
    "\n",
    "Wikipedia has a lot of information on historic events. Assume you want to conduct a study that examines which language edition talks more about different historic event (as indicated by years). As an example you first consider the article \"History_of_Germany\" in the englisch and german wikipedia.\n",
    "\n",
    "To get articles from the web, use the `requests` library. To deal with html content you can use the Beautiful soup library."
   ]
  },
  {
   "cell_type": "code",
   "execution_count": 5,
   "metadata": {},
   "outputs": [],
   "source": [
    "import requests\n",
    "from bs4 import BeautifulSoup"
   ]
  },
  {
   "cell_type": "markdown",
   "metadata": {},
   "source": [
    "## a) Grabbing a wikipedia article (1 + 0.5 + 0.5 + 0.5)\n",
    "Write a function `get_article_from_web(article_name, language_edition)` that returns the HTML as string for that article in a specific language edition. Assume that the article exists.\n",
    "\n",
    "To save bandwith when conducting multiple experiments we want to setup a cache of wikipedia articles.\n",
    "To setup the cache write the function `save_article_to_disk(article_name, language_edition, content)` that saves the content for that wikipedia article in `'./cache/{language_edition}/{article_name}.html'`. If any of the folders do not exist they are created. Please read the information on evaluation and grading.\n",
    "\n",
    "\n",
    "Then write a function `get_article_from_disk(article_name, language_edition)` that returns the cached version of the article from disk. If the article does not exists, it raises a `ValueError`.\n",
    "\n",
    "\n",
    "Write a function `get_article(article_name, language_edition)` that uses a local cache for fetching articles from wikipedia. So if you that article exists in cache it returns the cached version. If not it fetches the html for that article from the web and writes it to the cache so there is no need to get it from the web the next time. Thereby use the previously defined functions.\n",
    "\n",
    "Use the \"caching\" version `get_article` for all of the following tasks."
   ]
  },
  {
   "cell_type": "code",
   "execution_count": 12,
   "metadata": {},
   "outputs": [],
   "source": [
    "def get_article_from_web(article_name, language_edition):\n",
    "    URL = f\"https://{language_edition}.wikipedia.org/w/api.php\"\n",
    "    PARAMS = {\n",
    "        \"action\": \"parse\",\n",
    "        \"page\": \"Python\",\n",
    "        \"prop\": \"text\",\n",
    "        \"section\": 0,\n",
    "        \"format\": \"json\"\n",
    "        }\n",
    "    results = requests.get(url=URL, params=PARAMS).json()\n",
    "    soup = BeautifulSoup(results['parse']['text']['*'], 'html.parser')\n",
    "    return soup.prettify()"
   ]
  },
  {
   "cell_type": "code",
   "execution_count": 13,
   "metadata": {},
   "outputs": [
    {
     "output_type": "stream",
     "name": "stdout",
     "text": "<div class=\"mw-parser-output\">\n <p>\n  <b>\n   Python\n  </b>\n  (\n  <a href=\"/wiki/Altgriechische_Sprache\" title=\"Altgriechische Sprache\">\n   griechisch\n  </a>\n  <span class=\"Grek\" lang=\"grc-Grek\">\n   Πύθων\n  </span>\n  ) steht für:\n </p>\n <ul>\n  <li>\n   <a href=\"/wiki/Python_(Mythologie)\" title=\"Python (Mythologie)\">\n    Python (Mythologie)\n   </a>\n   , einen Drachen in der griechischen Mythologie\n  </li>\n  <li>\n   <a href=\"/wiki/Pythons\" title=\"Pythons\">\n    Pythons\n   </a>\n   (Pythonidae), eine Familie großer Schlangen\n   <ul>\n    <li>\n     <a href=\"/wiki/Eigentliche_Pythons\" title=\"Eigentliche Pythons\">\n      Eigentliche Pythons\n     </a>\n     <i>\n      (Python)\n     </i>\n     , eine Gattung aus der Familie der Pythons\n    </li>\n   </ul>\n  </li>\n  <li>\n   <a href=\"/wiki/Python_(Programmiersprache)\" title=\"Python (Programmiersprache)\">\n    Python (Programmiersprache)\n   </a>\n   , eine Programmiersprache\n  </li>\n  <li>\n   <a href=\"/wiki/Monty_Python\" title=\"Monty Python\">\n    Monty Python\n   </a>\n   , eine britische Komikergruppe\n  </li>\n  <li>\n   <a href=\"/wiki/Python_(Schiff,_1935)\" title=\"Python (Schiff, 1935)\">\n    <i>\n     Python\n    </i>\n    (Schiff, 1935)\n   </a>\n   , ein Kühlschiff und U-Boot-Versorger\n  </li>\n  <li>\n   <a class=\"new\" href=\"/w/index.php?title=Python_%E2%80%93_Lautlos_kommt_der_Tod&amp;action=edit&amp;redlink=1\" title=\"Python – Lautlos kommt der Tod (Seite nicht vorhanden)\">\n    Python – Lautlos kommt der Tod\n   </a>\n   , einen US-amerikanischen Horrorfilm aus dem Jahr 2000\n  </li>\n  <li>\n   <a class=\"new\" href=\"/w/index.php?title=Pythons_2&amp;action=edit&amp;redlink=1\" title=\"Pythons 2 (Seite nicht vorhanden)\">\n    Pythons 2\n   </a>\n   , einen US-amerikanischen Horrorfilm aus dem Jahr 2001\n  </li>\n  <li>\n   einen Vornamen, siehe\n   <a href=\"/wiki/Peithon\" title=\"Peithon\">\n    Peithon\n   </a>\n  </li>\n  <li>\n   <a href=\"/wiki/Python_Vehicles_Australia\" title=\"Python Vehicles Australia\">\n    Python Vehicles Australia\n   </a>\n   , einen australischen Hersteller von Automobilen\n  </li>\n </ul>\n <p>\n  Personen:\n </p>\n <ul>\n  <li>\n   <a class=\"new\" href=\"/w/index.php?title=Python_von_Ainos&amp;action=edit&amp;redlink=1\" title=\"Python von Ainos (Seite nicht vorhanden)\">\n    Python von Ainos\n   </a>\n   in Thrakien, Schüler Platons, ermordete 360/59 v. Chr. zusammen mit seinem Bruder Herakleides Kotys I., König der thrakischen Odrysen\n  </li>\n  <li>\n   <a class=\"new\" href=\"/w/index.php?title=Python_von_Byzanz&amp;action=edit&amp;redlink=1\" title=\"Python von Byzanz (Seite nicht vorhanden)\">\n    Python von Byzanz\n   </a>\n   , bedeutender Redner des 4. Jahrhunderts v. Chr., Schüler des Isokrates, im Dienste Philipps II. von Makedonien\n  </li>\n  <li>\n   <a class=\"new\" href=\"/w/index.php?title=Python_von_Abdera&amp;action=edit&amp;redlink=1\" title=\"Python von Abdera (Seite nicht vorhanden)\">\n    Python von Abdera\n   </a>\n   , nahm 170 v. Chr. am 3. Makedonischen Krieg teil\n  </li>\n  <li>\n   <a class=\"new\" href=\"/w/index.php?title=Python_(Dichter)&amp;action=edit&amp;redlink=1\" title=\"Python (Dichter) (Seite nicht vorhanden)\">\n    Python (Dichter)\n   </a>\n   , Verfasser eines Satyrspiels am Hof Alexanders des Großen\n  </li>\n  <li>\n   <a href=\"/wiki/Python_(T%C3%B6pfer)\" title=\"Python (Töpfer)\">\n    Python (Töpfer)\n   </a>\n   , ein attischer Töpfer, im frühen 5. Jahrhundert v. Chr. in Athen tätig\n  </li>\n  <li>\n   <a href=\"/wiki/Python_(Vasenmaler)\" title=\"Python (Vasenmaler)\">\n    Python (Vasenmaler)\n   </a>\n   , ein\n   <a href=\"/wiki/Paestanische_Vasenmalerei\" title=\"Paestanische Vasenmalerei\">\n    paestanischer Vasenmaler\n   </a>\n  </li>\n  <li>\n   <a class=\"new\" href=\"/w/index.php?title=Python_(Krokodilopolis)&amp;action=edit&amp;redlink=1\" title=\"Python (Krokodilopolis) (Seite nicht vorhanden)\">\n    Python (Krokodilopolis)\n   </a>\n   , um die Mitte des 3. Jahrhunderts v. Chr. Vorsteher der königlichen Bank des Gaues Arsinoites mit dem Sitz in Krokodilopolis\n  </li>\n  <li>\n   <a href=\"/wiki/Georges_Python\" title=\"Georges Python\">\n    Georges Python\n   </a>\n   (1856–1927), schweizerischer Politiker (CVP)\n  </li>\n  <li>\n   <a href=\"/wiki/Jos%C3%A9_Python\" title=\"José Python\">\n    José Python\n   </a>\n   (1901–1976), Schweizer Politiker (konservativ), Staatsrat des Kantons Freiburg\n  </li>\n  <li>\n   <a href=\"/wiki/Valentine_Python\" title=\"Valentine Python\">\n    Valentine Python\n   </a>\n   (* 1975), Schweizer Klimatologin und Politikerin\n  </li>\n </ul>\n <p>\n  Marken und Produkte:\n </p>\n <ul>\n  <li>\n   <a href=\"/wiki/Python_(Efteling)\" title=\"Python (Efteling)\">\n    Python (Efteling)\n   </a>\n   , eine Achterbahn in Efteling\n  </li>\n  <li>\n   <a href=\"/wiki/Colt_Python\" title=\"Colt Python\">\n    Colt Python\n   </a>\n   , ein Revolver der Firma Colt\n  </li>\n  <li>\n   die Typbezeichnung eines Knicklenker-Liegerads, siehe\n   <a href=\"/wiki/Knicklenker_(Fahrrad)\" title=\"Knicklenker (Fahrrad)\">\n    Knicklenker (Fahrrad)\n   </a>\n  </li>\n  <li>\n   verschiedene Typen von Luft-Luft-Raketen aus israelischer Produktion, siehe\n   <a href=\"/wiki/Python-3\" title=\"Python-3\">\n    Python-3\n   </a>\n   ,\n   <a href=\"/wiki/Python-4\" title=\"Python-4\">\n    Python-4\n   </a>\n   und\n   <a class=\"mw-redirect\" href=\"/wiki/Python-5\" title=\"Python-5\">\n    Python-5\n   </a>\n  </li>\n </ul>\n <p>\n  <br/>\n  <b>\n   Siehe auch:\n  </b>\n </p>\n <div class=\"sisterproject\" style=\"margin:0.1em 0 0 0;\">\n  <span aria-hidden=\"true\" class=\"noviewer\" role=\"presentation\" style=\"display:inline-block; line-height:10px; min-width:1.6em; text-align:center;\">\n   <img alt=\"Wiktionary\" data-file-height=\"16\" data-file-width=\"16\" decoding=\"async\" height=\"16\" src=\"//upload.wikimedia.org/wikipedia/commons/thumb/c/c3/Wiktfavicon_en.svg/16px-Wiktfavicon_en.svg.png\" srcset=\"//upload.wikimedia.org/wikipedia/commons/thumb/c/c3/Wiktfavicon_en.svg/24px-Wiktfavicon_en.svg.png 1.5x, //upload.wikimedia.org/wikipedia/commons/thumb/c/c3/Wiktfavicon_en.svg/32px-Wiktfavicon_en.svg.png 2x\" title=\"Wiktionary\" width=\"16\"/>\n  </span>\n  <b>\n   <a class=\"extiw\" href=\"https://de.wiktionary.org/wiki/Python\" title=\"wikt:Python\">\n    Wiktionary: Python\n   </a>\n  </b>\n  – Bedeutungserklärungen, Wortherkunft, Synonyme, Übersetzungen\n </div>\n <ul>\n  <li>\n   <a href=\"/wiki/Pythia\" title=\"Pythia\">\n    Pythia\n   </a>\n   (gr. Πυθία), Titel der Priesterin, die im Tempel von Delphi den Ratsuchenden weissagte\n  </li>\n </ul>\n <div class=\"hintergrundfarbe1 rahmenfarbe1 navigation-not-searchable\" id=\"Vorlage_Begriffsklaerung\" style=\"border-top-style: solid; border-top-width: 1px; clear: both; font-size:95%; margin-top:1em; padding: 0.25em; overflow: hidden;\">\n  <div aria-hidden=\"true\" class=\"noviewer\" id=\"bksicon\" role=\"presentation\" style=\"display: table-cell; padding-bottom: 0.2em; padding-left: 0.25em; padding-right: 1em; padding-top: 0.2em; vertical-align: middle;\">\n   <img alt=\"\" data-file-height=\"340\" data-file-width=\"444\" decoding=\"async\" height=\"19\" src=\"//upload.wikimedia.org/wikipedia/commons/thumb/e/ea/Disambig-dark.svg/25px-Disambig-dark.svg.png\" srcset=\"//upload.wikimedia.org/wikipedia/commons/thumb/e/ea/Disambig-dark.svg/38px-Disambig-dark.svg.png 1.5x, //upload.wikimedia.org/wikipedia/commons/thumb/e/ea/Disambig-dark.svg/50px-Disambig-dark.svg.png 2x\" width=\"25\"/>\n  </div>\n  <div role=\"contentinfo\" style=\"display: table-cell; vertical-align: middle; width: 100%;\">\n   <p>\n    Dies ist eine\n    <b>\n     <a href=\"/wiki/Wikipedia:Begriffskl%C3%A4rung\" title=\"Wikipedia:Begriffsklärung\">\n      Begriffsklärungsseite\n     </a>\n    </b>\n    zur Unterscheidung mehrerer mit demselben Wort bezeichneter Begriffe.\n   </p>\n  </div>\n </div>\n <!-- \nNewPP limit report\nParsed by mw1398\nCached time: 20200616120827\nCache expiry: 2592000\nDynamic content: false\nComplications: []\nCPU time usage: 0.120 seconds\nReal time usage: 0.166 seconds\nPreprocessor visited node count: 145/1000000\nPost‐expand include size: 3489/2097152 bytes\nTemplate argument size: 378/2097152 bytes\nHighest expansion depth: 7/40\nExpensive parser function count: 8/500\nUnstrip recursion depth: 0/20\nUnstrip post‐expand size: 0/5000000 bytes\nNumber of Wikibase entities loaded: 1/400\nLua time usage: 0.068/10.000 seconds\nLua memory usage: 1.93 MB/50 MB\n-->\n <!--\nTransclusion expansion time report (%,ms,calls,template)\n100.00%  139.706      1 -total\n 78.69%  109.931      1 Vorlage:ELSalt\n 76.37%  106.698      1 Vorlage:Lang\n 15.39%   21.504      1 Vorlage:Begriffsklärung\n  5.68%    7.931      1 Vorlage:Wiktionary\n  2.58%    3.610      1 Vorlage:Hinweisbaustein\n-->\n</div>\n"
    }
   ],
   "source": [
    "print(get_article_from_web(\"Python\",\"de\"))"
   ]
  },
  {
   "cell_type": "code",
   "execution_count": 17,
   "metadata": {},
   "outputs": [],
   "source": [
    "def save_article_to_disk(article_name, language_edition, content):\n",
    "    try:\n",
    "        os.makedirs(f\"./cache/{language_edition}\")\n",
    "    except OSError:\n",
    "        pass\n",
    "    \n",
    "    my_file=open(f\"./cache/{language_edition}/{article_name}.html\",\"w\", encoding=\"utf-8\")\n",
    "    my_file.write(content)\n",
    "    my_file.close()\n"
   ]
  },
  {
   "cell_type": "code",
   "execution_count": 18,
   "metadata": {},
   "outputs": [],
   "source": [
    "content=get_article_from_web(\"Python\",\"de\")\n",
    "save_article_to_disk(\"Python\", \"de\", content)"
   ]
  },
  {
   "cell_type": "code",
   "execution_count": 24,
   "metadata": {},
   "outputs": [],
   "source": [
    "def get_article_from_disk(article_name, language_edition):\n",
    "    try:\n",
    "        with open(f\"./cache/{language_edition}/{article_name}.html\",\"r\",encoding=\"utf-8\") as f:\n",
    "            return f.read()\n",
    "    except FileNotFoundError: \n",
    "        raise ValueError(\"The article does not exists\")\n",
    "\n"
   ]
  },
  {
   "cell_type": "code",
   "execution_count": 25,
   "metadata": {},
   "outputs": [],
   "source": [
    "def get_article(article_name, language_edition):\n",
    "    try:\n",
    "        return get_article_from_disk(article_name,language_edition)\n",
    "    except:\n",
    "        content=get_article_from_web(article_name,language_edition)\n",
    "        save_article_to_disk(article_name,language_edition,content)\n",
    "        return get_article_from_disk(article_name,language_edition)"
   ]
  },
  {
   "cell_type": "code",
   "execution_count": 26,
   "metadata": {},
   "outputs": [
    {
     "output_type": "execute_result",
     "data": {
      "text/plain": "'<div class=\"mw-parser-output\">\\n <table class=\"mbox-small plainlinks sistersitebox\" role=\"presentation\" style=\"background-color:#f9f9f9;border:1px solid #aaa;color:#000\">\\n  <tbody>\\n   <tr>\\n    <td class=\"mbox-image\">\\n     <img alt=\"\" class=\"noviewer\" data-file-height=\"512\" data-file-width=\"512\" decoding=\"async\" height=\"40\" src=\"//upload.wikimedia.org/wikipedia/commons/thumb/9/99/Wiktionary-logo-en-v2.svg/40px-Wiktionary-logo-en-v2.svg.png\" srcset=\"//upload.wikimedia.org/wikipedia/commons/thumb/9/99/Wiktionary-logo-en-v2.svg/60px-Wiktionary-logo-en-v2.svg.png 1.5x, //upload.wikimedia.org/wikipedia/commons/thumb/9/99/Wiktionary-logo-en-v2.svg/80px-Wiktionary-logo-en-v2.svg.png 2x\" width=\"40\"/>\\n    </td>\\n    <td class=\"mbox-text plainlist\">\\n     Look up\\n     <i>\\n      <b>\\n       <a class=\"extiw\" href=\"https://en.wiktionary.org/wiki/Python\" title=\"wiktionary:Python\">\\n        Python\\n       </a>\\n      </b>\\n     </i>\\n     or\\n     <i>\\n      <b>\\n       <a class=\"extiw\" href=\"https://en.wiktionary.org/wiki/python\" title=\"wiktionary:python\">\\n        python\\n       </a>\\n      </b>\\n     </i>\\n     in Wiktionary, the free dictionary.\\n    </td>\\n   </tr>\\n  </tbody>\\n </table>\\n <p>\\n  <b>\\n   Python\\n  </b>\\n  may refer to:\\n </p>\\n <style data-mw-deduplicate=\"TemplateStyles:r886049878\">\\n  .mw-parser-output .tocright{float:right;clear:right;width:auto;background:none;padding:.5em 0 .8em 1.4em;margin-bottom:.5em}.mw-parser-output .tocright-clear-left{clear:left}.mw-parser-output .tocright-clear-both{clear:both}.mw-parser-output .tocright-clear-none{clear:none}\\n </style>\\n <div class=\"tocright\" style=\"\">\\n </div>\\n <!-- \\nNewPP limit report\\nParsed by mw1290\\nCached time: 20200616121244\\nCache expiry: 2592000\\nDynamic content: false\\nComplications: []\\nCPU time usage: 0.044 seconds\\nReal time usage: 0.062 seconds\\nPreprocessor visited node count: 112/1000000\\nPost‐expand include size: 1951/2097152 bytes\\nTemplate argument size: 169/2097152 bytes\\nHighest expansion depth: 9/40\\nExpensive parser function count: 0/500\\nUnstrip recursion depth: 0/20\\nUnstrip post‐expand size: 379/5000000 bytes\\nNumber of Wikibase entities loaded: 0/400\\nLua time usage: 0.004/10.000 seconds\\nLua memory usage: 546 KB/50 MB\\n-->\\n <!--\\nTransclusion expansion time report (%,ms,calls,template)\\n100.00%   53.557      1 -total\\n 70.45%   37.729      1 Template:Wiktionary\\n 62.95%   33.715      1 Template:Sister_project\\n 56.52%   30.272      1 Template:Side_box\\n 29.34%   15.712      1 Template:TOC_right\\n-->\\n</div>'"
     },
     "metadata": {},
     "execution_count": 26
    }
   ],
   "source": [
    "get_article(\"Germany\",\"en\")"
   ]
  },
  {
   "cell_type": "markdown",
   "metadata": {},
   "source": [
    "## b) Links from one article to other articles  (1)\n",
    "Write a function `get_links(article_name, language_edition)` that returns a list of wikipedia article names.  These links are obtained throught the article specified by `article_name` (in the language_edition). Only include links in its 'content' div. Do not include links that you can get through the left navigation bar.\n",
    "\n",
    "Sort the links in alphabetically increasing order."
   ]
  },
  {
   "cell_type": "code",
   "execution_count": null,
   "metadata": {},
   "outputs": [],
   "source": []
  },
  {
   "cell_type": "markdown",
   "metadata": {},
   "source": [
    "## c) Getting the same article in a different language edition (1.0)\n",
    "Write a funciton `switch_language(article_name, old_language_edition, new_language_edition)` that returns the name of the wikipedia article in the new language edition."
   ]
  },
  {
   "cell_type": "code",
   "execution_count": null,
   "metadata": {},
   "outputs": [],
   "source": []
  },
  {
   "cell_type": "markdown",
   "metadata": {},
   "source": [
    "## d) Using regular expressions to extract years from a page content (1.5)\n",
    "Write a function `extract_years(string_input)` that gets a string and returns how often a certain year number from 1000-2019 occurs. You can assume that each number between 1000 and 2020 is a year number. The result is a dictionary with year numbers as keys, and the number of occurrences as values.\n",
    "\n",
    "Example: `extract_years(\"The king reigned from 1245 to 1268. He died in 1268. His favorite number was 12689\")` should return the dictionary `{1245: 1, 1268:2}`"
   ]
  },
  {
   "cell_type": "code",
   "execution_count": null,
   "metadata": {},
   "outputs": [],
   "source": []
  },
  {
   "cell_type": "markdown",
   "metadata": {},
   "source": [
    "## e) Aggregate years for articles (0.5)\n",
    "Write a function `extract_years_for_articles(article_names, language_edition)` that extracts the years counts for all the articles in that particular language edition and aggregates them into a single dictionary. This aggregated dictionary is returned."
   ]
  },
  {
   "cell_type": "code",
   "execution_count": null,
   "metadata": {},
   "outputs": [],
   "source": []
  },
  {
   "cell_type": "markdown",
   "metadata": {},
   "source": [
    "## f) Bringing it all together (1.5)\n",
    "Write a function `get_all_years(base_article, base_language_edition, n=None, target_language_edition=None)`\n",
    "\n",
    "- Determines 'real' base article (if target_language edition is specified, the article in the target language edition is used.)\n",
    "- extracts the first n links (all if n is None) from that 'real' base article\n",
    "- aggregates the year counts across the base article **and** all the n articles that the base article links to.\n",
    "- it then returns that dictionary"
   ]
  },
  {
   "cell_type": "code",
   "execution_count": null,
   "metadata": {},
   "outputs": [],
   "source": []
  },
  {
   "cell_type": "markdown",
   "metadata": {},
   "source": [
    "## g) Visualize and Interpret your results (1 + 1)\n",
    "Visualize the numbers of occurrences for the article History_of_Germany in both englisch (en) and german (de) in a timeline. Use `n=20`. Show the results here in the notebook and also save it to 'timeline.png' in code. Make sure the plot has a legend, axis labels, ...\n",
    "\n",
    "Describe the visualization, and give reasons for possible differences of the german and englisch timelines. Write that string to a file 'timeline.txt'"
   ]
  },
  {
   "cell_type": "code",
   "execution_count": null,
   "metadata": {},
   "outputs": [],
   "source": []
  },
  {
   "cell_type": "code",
   "execution_count": null,
   "metadata": {},
   "outputs": [],
   "source": []
  }
 ],
 "metadata": {
  "kernelspec": {
   "display_name": "Python 3.8.2 32-bit",
   "language": "python",
   "name": "python38232bit3359227b3fb8457c8cb9ee258c2345d7"
  },
  "language_info": {
   "codemirror_mode": {
    "name": "ipython",
    "version": 3
   },
   "file_extension": ".py",
   "mimetype": "text/x-python",
   "name": "python",
   "nbconvert_exporter": "python",
   "pygments_lexer": "ipython3",
   "version": "3.8.2-final"
  },
  "toc": {
   "colors": {
    "hover_highlight": "#DAA520",
    "navigate_num": "#000000",
    "navigate_text": "#333333",
    "running_highlight": "#FF0000",
    "selected_highlight": "#FFD700",
    "sidebar_border": "#EEEEEE",
    "wrapper_background": "#FFFFFF"
   },
   "moveMenuLeft": true,
   "nav_menu": {
    "height": "279px",
    "width": "252px"
   },
   "navigate_menu": true,
   "number_sections": true,
   "sideBar": true,
   "threshold": 4,
   "toc_cell": false,
   "toc_section_display": "block",
   "toc_window_display": false,
   "widenNotebook": false
  },
  "varInspector": {
   "cols": {
    "lenName": 16,
    "lenType": 16,
    "lenVar": 40
   },
   "kernels_config": {
    "python": {
     "delete_cmd_postfix": "",
     "delete_cmd_prefix": "del ",
     "library": "var_list.py",
     "varRefreshCmd": "print(var_dic_list())"
    },
    "r": {
     "delete_cmd_postfix": ") ",
     "delete_cmd_prefix": "rm(",
     "library": "var_list.r",
     "varRefreshCmd": "cat(var_dic_list()) "
    }
   },
   "types_to_exclude": [
    "module",
    "function",
    "builtin_function_or_method",
    "instance",
    "_Feature"
   ],
   "window_display": false
  }
 },
 "nbformat": 4,
 "nbformat_minor": 2
}