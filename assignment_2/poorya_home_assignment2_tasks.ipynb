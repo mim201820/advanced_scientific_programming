{
 "cells": [
  {
   "cell_type": "markdown",
   "metadata": {},
   "source": [
    "# Python II - Assignment 2\n",
    "\n",
    "This **Home Assignment** is to be submitted and you will be given points for each of the tasks. It familiarizes you with basics of *web scraping* and basics of *regular expressions*.\n",
    "\n",
    "## Formalities\n",
    "**Submit in a group of 2-3 people until 22.06.2020 23:59CET. The deadline is strict!**\n",
    "\n",
    "## Evaluation and Grading\n",
    "General advice for programming excercises at *CSSH*:\n",
    "Evaluation of your submission is done semi automatically. Think of it as this notebook being \n",
    "executed once. Afterwards, some test functions are appended to this file and executed respectively.\n",
    "\n",
    "Therefore:\n",
    "* Submit valid _Python3_ code only!\n",
    "* Use external libraries only when specified by task.\n",
    "* Ensure your definitions (functions, classes, methods, variables) follow the specification if\n",
    "  given. The concrete signature of e.g. a function usually can be inferred from task description, \n",
    "  code skeletons and test cases.\n",
    "* Ensure the notebook does not rely on current notebook or system state!\n",
    "  * Use `Kernel --> Restart & Run All` to see if you are using any definitions, variables etc. that \n",
    "    are not in scope anymore.\n",
    "  * Double check if your code relies on presence of files or directories other than those mentioned\n",
    "    in given tasks. Tests run under Linux, hence don't use Windows style paths \n",
    "    (`some\\path`, `C:\\another\\path`). Also, use paths only that are relative to and within your\n",
    "    working directory (OK: `some/path`, `./some/path`; NOT OK: `/home/alice/python`, \n",
    "    `../../python`).\n",
    "* Keep your code idempotent! Running it or parts of it multiple times must not yield different\n",
    "  results. Minimize usage of global variables.\n",
    "* Ensure your code / notebook terminates in reasonable time.\n",
    "\n",
    "**There's a story behind each of these points! Don't expect us to fix your stuff!**\n",
    "\n",
    "Regarding the scores, you will get no points for a task if:\n",
    "- your function throws an unexpected error (e.g. takes the wrong number of arguments)\n",
    "- gets stuck in an infinite loop\n",
    "- takes much much longer than expected (e.g. >1s to compute the mean of two numbers)\n",
    "- does not produce the desired output (e.g. returns an descendingly sorted list even though we asked for ascending, returns the mean and the std even though we asked for the mean only, only prints the output instead of returning it!)\n",
    "- ..."
   ]
  },
  {
   "cell_type": "markdown",
   "metadata": {},
   "source": [
    "# History in Wikipedia (10 points total)\n",
    "\n",
    "Wikipedia has a lot of information on historic events. Assume you want to conduct a study that examines which language edition talks more about different historic event (as indicated by years). As an example you first consider the article \"History_of_Germany\" in the englisch and german wikipedia.\n",
    "\n",
    "To get articles from the web, use the `requests` library. To deal with html content you can use the Beautiful soup library."
   ]
  },
  {
   "cell_type": "code",
   "execution_count": 1,
   "metadata": {},
   "outputs": [],
   "source": [
    "import requests\n",
    "from bs4 import BeautifulSoup\n",
    "import os\n",
    "import re"
   ]
  },
  {
   "cell_type": "markdown",
   "metadata": {},
   "source": [
    "## a) Grabbing a wikipedia article (1 + 0.5 + 0.5 + 0.5)\n",
    "Write a function `get_article_from_web(article_name, language_edition)` that returns the HTML as string for that article in a specific language edition. Assume that the article exists.\n",
    "\n",
    "To save bandwith when conducting multiple experiments we want to setup a cache of wikipedia articles.\n",
    "To setup the cache write the function `save_article_to_disk(article_name, language_edition, content)` that saves the content for that wikipedia article in `'./cache/{language_edition}/{article_name}.html'`. If any of the folders do not exist they are created. Please read the information on evaluation and grading.\n",
    "\n",
    "\n",
    "Then write a function `get_article_from_disk(article_name, language_edition)` that returns the cached version of the article from disk. If the article does not exists, it raises a `ValueError`.\n",
    "\n",
    "\n",
    "Write a function `get_article(article_name, language_edition)` that uses a local cache for fetching articles from wikipedia. So if you that article exists in cache it returns the cached version. If not it fetches the html for that article from the web and writes it to the cache so there is no need to get it from the web the next time. Thereby use the previously defined functions.\n",
    "\n",
    "Use the \"caching\" version `get_article` for all of the following tasks."
   ]
  },
  {
   "cell_type": "code",
   "execution_count": 2,
   "metadata": {},
   "outputs": [],
   "source": [
    "def get_article_from_web(article_name, language_edition):\n",
    "    # define the dictionary for the language edition\n",
    "#     language_prefix = {'Deutsch':'de','deutsch':'de','de':'de',\n",
    "#                        'English':'en','english':'en','en':'en'}\n",
    "    \n",
    "    global API_URL\n",
    "#     API_URL = 'https://' + language_prefix[language_edition] + '.wikipedia.org/wiki/' + article_name  \n",
    "    API_URL = 'https://' + language_edition + '.wikipedia.org/wiki/' + article_name\n",
    "\n",
    "    #S = requests\n",
    "    page = requests.get(url=API_URL,timeout=30)\n",
    "    soup = BeautifulSoup(page.content, 'html.parser')\n",
    "\n",
    "    return soup.prettify()"
   ]
  },
  {
   "cell_type": "code",
   "execution_count": 3,
   "metadata": {},
   "outputs": [],
   "source": [
    "def save_article_to_disk(article_name, language_edition, content):\n",
    "    try:\n",
    "        os.makedirs(f\"./cache/{language_edition}\")\n",
    "    except :\n",
    "        pass\n",
    "    \n",
    "    my_file=open(f\"./cache/{language_edition}/{article_name}.html\",\"w\", encoding=\"utf-8\")\n",
    "    my_file.write(content)\n",
    "    my_file.close()"
   ]
  },
  {
   "cell_type": "code",
   "execution_count": 4,
   "metadata": {},
   "outputs": [],
   "source": [
    "def get_article_from_disk(article_name, language_edition):\n",
    "    try:\n",
    "        with open(f\"./cache/{language_edition}/{article_name}.html\",\"r\",encoding=\"utf-8\") as f:\n",
    "            return f.read()\n",
    "    except FileNotFoundError: \n",
    "        raise ValueError(\"The article does not exists\")"
   ]
  },
  {
   "cell_type": "code",
   "execution_count": 5,
   "metadata": {},
   "outputs": [],
   "source": [
    "def get_article(article_name, language_edition):\n",
    "    try:\n",
    "        return get_article_from_disk(article_name,language_edition)\n",
    "    except:\n",
    "        content=get_article_from_web(article_name,language_edition)\n",
    "        save_article_to_disk(article_name,language_edition,content)\n",
    "        return get_article_from_disk(article_name,language_edition)"
   ]
  },
  {
   "cell_type": "code",
   "execution_count": 6,
   "metadata": {},
   "outputs": [],
   "source": [
    "#get_article(\"Germany\",\"en\")"
   ]
  },
  {
   "cell_type": "markdown",
   "metadata": {},
   "source": [
    "## b) Links from one article to other articles  (1)\n",
    "Write a function `get_links(article_name, language_edition)` that returns a list of wikipedia article names.  These links are obtained throught the article specified by `article_name` (in the language_edition). Only include links in its 'content' div. Do not include links that you can get through the left navigation bar.\n",
    "\n",
    "Sort the links in alphabetically increasing order."
   ]
  },
  {
   "cell_type": "code",
   "execution_count": 7,
   "metadata": {},
   "outputs": [],
   "source": [
    "def get_links(article_name, language_edition):\n",
    "    page_content = get_article(article_name, language_edition)\n",
    "    # convert the string file to soup\n",
    "    soup = BeautifulSoup(page_content, 'html.parser')\n",
    "    links = []\n",
    "    for link in soup.find_all(class_=\"interlanguage-link-target\",):\n",
    "        links.append(link.get('href'))\n",
    "    return sorted(links)"
   ]
  },
  {
   "cell_type": "code",
   "execution_count": 8,
   "metadata": {},
   "outputs": [
    {
     "data": {
      "text/plain": [
       "['https://ab.wikipedia.org/wiki/%D0%93%D0%B5%D1%80%D0%BC%D0%B0%D0%BD%D0%B8%D0%B0',\n",
       " 'https://ace.wikipedia.org/wiki/Jeureuman',\n",
       " 'https://ady.wikipedia.org/wiki/%D0%93%D0%B5%D1%80%D0%BC%D0%B0%D0%BD%D0%B8%D0%B5',\n",
       " 'https://af.wikipedia.org/wiki/Duitsland',\n",
       " 'https://ak.wikipedia.org/wiki/Germany',\n",
       " 'https://als.wikipedia.org/wiki/Deutschland',\n",
       " 'https://am.wikipedia.org/wiki/%E1%8C%80%E1%88%AD%E1%88%98%E1%8A%95',\n",
       " 'https://an.wikipedia.org/wiki/Alemanya',\n",
       " 'https://ang.wikipedia.org/wiki/%C3%9E%C4%93odscland',\n",
       " 'https://ar.wikipedia.org/wiki/%D8%A3%D9%84%D9%85%D8%A7%D9%86%D9%8A%D8%A7',\n",
       " 'https://arc.wikipedia.org/wiki/%DC%93%DC%AA%DC%A1%DC%A2',\n",
       " 'https://arz.wikipedia.org/wiki/%D8%A7%D9%84%D9%85%D8%A7%D9%86%D9%8A%D8%A7',\n",
       " 'https://ast.wikipedia.org/wiki/Alema%C3%B1a',\n",
       " 'https://av.wikipedia.org/wiki/%D0%93%D0%B5%D1%80%D0%BC%D0%B0%D0%BD',\n",
       " 'https://awa.wikipedia.org/wiki/%E0%A4%9C%E0%A4%B0%E0%A5%8D%E0%A4%AE%E0%A4%A8%E0%A5%80',\n",
       " 'https://ay.wikipedia.org/wiki/Alima%C3%B1a',\n",
       " 'https://az.wikipedia.org/wiki/Almaniya',\n",
       " 'https://azb.wikipedia.org/wiki/%D8%A2%D9%84%D9%85%D8%A7%D9%86',\n",
       " 'https://ba.wikipedia.org/wiki/%D0%93%D0%B5%D1%80%D0%BC%D0%B0%D0%BD%D0%B8%D1%8F',\n",
       " 'https://ban.wikipedia.org/wiki/Jerman',\n",
       " 'https://bar.wikipedia.org/wiki/Deitschland',\n",
       " 'https://bat-smg.wikipedia.org/wiki/Vuok%C4%ABt%C4%97j%C4%97',\n",
       " 'https://bcl.wikipedia.org/wiki/Alemanya',\n",
       " 'https://be-tarask.wikipedia.org/wiki/%D0%9D%D1%8F%D0%BC%D0%B5%D1%87%D1%87%D1%8B%D0%BD%D0%B0',\n",
       " 'https://be.wikipedia.org/wiki/%D0%93%D0%B5%D1%80%D0%BC%D0%B0%D0%BD%D1%96%D1%8F',\n",
       " 'https://bg.wikipedia.org/wiki/%D0%93%D0%B5%D1%80%D0%BC%D0%B0%D0%BD%D0%B8%D1%8F',\n",
       " 'https://bh.wikipedia.org/wiki/%E0%A4%9C%E0%A4%B0%E0%A5%8D%E0%A4%AE%E0%A4%A8%E0%A5%80',\n",
       " 'https://bi.wikipedia.org/wiki/Jemani',\n",
       " 'https://bm.wikipedia.org/wiki/Alima%C9%B2i',\n",
       " 'https://bn.wikipedia.org/wiki/%E0%A6%9C%E0%A6%BE%E0%A6%B0%E0%A7%8D%E0%A6%AE%E0%A6%BE%E0%A6%A8%E0%A6%BF',\n",
       " 'https://bo.wikipedia.org/wiki/%E0%BD%A0%E0%BD%87%E0%BD%A2%E0%BC%8B%E0%BD%98%E0%BD%93%E0%BC%8D',\n",
       " 'https://bpy.wikipedia.org/wiki/%E0%A6%9C%E0%A6%BE%E0%A6%B0%E0%A7%8D%E0%A6%AE%E0%A6%BE%E0%A6%A8%E0%A6%BF',\n",
       " 'https://br.wikipedia.org/wiki/Alamagn',\n",
       " 'https://bs.wikipedia.org/wiki/Njema%C4%8Dka',\n",
       " 'https://bug.wikipedia.org/wiki/Jerman',\n",
       " 'https://bxr.wikipedia.org/wiki/%D0%93%D0%B5%D1%80%D0%BC%D0%B0%D0%BD%D0%B8',\n",
       " 'https://ca.wikipedia.org/wiki/Alemanya',\n",
       " 'https://cbk-zam.wikipedia.org/wiki/Alemania',\n",
       " 'https://cdo.wikipedia.org/wiki/D%C3%A1ik-gu%C3%B3k',\n",
       " 'https://ce.wikipedia.org/wiki/%D0%93%D0%B5%D1%80%D0%BC%D0%B0%D0%BD%D0%B8',\n",
       " 'https://ceb.wikipedia.org/wiki/Alemanya',\n",
       " 'https://ch.wikipedia.org/wiki/Alema%C3%B1a',\n",
       " 'https://chr.wikipedia.org/wiki/%E1%8E%A0%E1%8F%9B%E1%8F%A5',\n",
       " 'https://chy.wikipedia.org/wiki/Ma%27ev%C3%A9%27ho%27%C3%A9no',\n",
       " 'https://ckb.wikipedia.org/wiki/%D8%A6%DB%95%DA%B5%D9%85%D8%A7%D9%86%DB%8C%D8%A7',\n",
       " 'https://co.wikipedia.org/wiki/Germania',\n",
       " 'https://crh.wikipedia.org/wiki/Almaniya',\n",
       " 'https://cs.wikipedia.org/wiki/N%C4%9Bmecko',\n",
       " 'https://csb.wikipedia.org/wiki/Miemieck%C3%B4',\n",
       " 'https://cu.wikipedia.org/wiki/%D0%9D%D1%A3%D0%BC%D1%8C%D1%86%D0%B8',\n",
       " 'https://cv.wikipedia.org/wiki/%D0%93%D0%B5%D1%80%D0%BC%D0%B0%D0%BD%D0%B8',\n",
       " 'https://cy.wikipedia.org/wiki/Yr_Almaen',\n",
       " 'https://da.wikipedia.org/wiki/Tyskland',\n",
       " 'https://de.wikipedia.org/wiki/Deutschland',\n",
       " 'https://diq.wikipedia.org/wiki/Almanya',\n",
       " 'https://dsb.wikipedia.org/wiki/Nimska',\n",
       " 'https://dty.wikipedia.org/wiki/%E0%A4%9C%E0%A4%B0%E0%A5%8D%E0%A4%AE%E0%A4%A8%E0%A5%80',\n",
       " 'https://dv.wikipedia.org/wiki/%DE%96%DE%A6%DE%83%DE%AA%DE%89%DE%A6%DE%82%DE%AA%DE%88%DE%A8%DE%8D%DE%A7%DE%8C%DE%B0',\n",
       " 'https://dz.wikipedia.org/wiki/%E0%BD%87%E0%BD%B1%E0%BD%A2%E0%BC%8B%E0%BD%98%E0%BC%8B%E0%BD%93%E0%BD%B2',\n",
       " 'https://ee.wikipedia.org/wiki/Germany',\n",
       " 'https://el.wikipedia.org/wiki/%CE%93%CE%B5%CF%81%CE%BC%CE%B1%CE%BD%CE%AF%CE%B1',\n",
       " 'https://eml.wikipedia.org/wiki/Germ%C3%A2gna',\n",
       " 'https://eo.wikipedia.org/wiki/Germanio',\n",
       " 'https://es.wikipedia.org/wiki/Alemania',\n",
       " 'https://et.wikipedia.org/wiki/Saksamaa',\n",
       " 'https://eu.wikipedia.org/wiki/Alemania',\n",
       " 'https://ext.wikipedia.org/wiki/Alema%C3%B1a',\n",
       " 'https://fa.wikipedia.org/wiki/%D8%A2%D9%84%D9%85%D8%A7%D9%86',\n",
       " 'https://ff.wikipedia.org/wiki/Almaanya',\n",
       " 'https://fi.wikipedia.org/wiki/Saksa',\n",
       " 'https://fiu-vro.wikipedia.org/wiki/S%27aksamaa',\n",
       " 'https://fj.wikipedia.org/wiki/Jamani',\n",
       " 'https://fo.wikipedia.org/wiki/T%C3%BDskland',\n",
       " 'https://fr.wikipedia.org/wiki/Allemagne',\n",
       " 'https://frp.wikipedia.org/wiki/Alemagnes',\n",
       " 'https://frr.wikipedia.org/wiki/Tj%C3%BCschl%C3%B6nj',\n",
       " 'https://fur.wikipedia.org/wiki/Gjermanie',\n",
       " 'https://fy.wikipedia.org/wiki/D%C3%BAtsl%C3%A2n',\n",
       " 'https://ga.wikipedia.org/wiki/An_Ghearm%C3%A1in',\n",
       " 'https://gag.wikipedia.org/wiki/Germaniya',\n",
       " 'https://gan.wikipedia.org/wiki/%E5%BE%B7%E5%9C%8B',\n",
       " 'https://gcr.wikipedia.org/wiki/Lanlmangn',\n",
       " 'https://gd.wikipedia.org/wiki/A%27_Ghearmailt',\n",
       " 'https://gl.wikipedia.org/wiki/Alema%C3%B1a',\n",
       " 'https://glk.wikipedia.org/wiki/%D8%A2%D9%84%D9%85%D8%A7%D9%86',\n",
       " 'https://gn.wikipedia.org/wiki/Alem%C3%A1%C3%B1a',\n",
       " 'https://gom.wikipedia.org/wiki/%E0%A4%9C%E0%A4%B0%E0%A5%8D%E0%A4%AE%E0%A4%A8%E0%A5%80',\n",
       " 'https://got.wikipedia.org/wiki/%F0%90%8C%B8%F0%90%8C%B9%F0%90%8C%BF%F0%90%8C%B3%F0%90%8C%B9%F0%90%8D%83%F0%90%8C%BA%F0%90%8C%B0%F0%90%8C%BB%F0%90%8C%B0%F0%90%8C%BD%F0%90%8C%B3',\n",
       " 'https://gu.wikipedia.org/wiki/%E0%AA%9C%E0%AA%B0%E0%AB%8D%E0%AA%AE%E0%AA%A8%E0%AB%80',\n",
       " 'https://gv.wikipedia.org/wiki/Yn_Ghermaan',\n",
       " 'https://ha.wikipedia.org/wiki/Jamus',\n",
       " 'https://hak.wikipedia.org/wiki/Tet-koet',\n",
       " 'https://haw.wikipedia.org/wiki/Kelem%C4%81nia',\n",
       " 'https://he.wikipedia.org/wiki/%D7%92%D7%A8%D7%9E%D7%A0%D7%99%D7%94',\n",
       " 'https://hi.wikipedia.org/wiki/%E0%A4%9C%E0%A4%B0%E0%A5%8D%E0%A4%AE%E0%A4%A8%E0%A5%80',\n",
       " 'https://hif.wikipedia.org/wiki/Germany',\n",
       " 'https://hr.wikipedia.org/wiki/Njema%C4%8Dka',\n",
       " 'https://hsb.wikipedia.org/wiki/N%C4%9Bmska',\n",
       " 'https://ht.wikipedia.org/wiki/Almay',\n",
       " 'https://hu.wikipedia.org/wiki/N%C3%A9metorsz%C3%A1g',\n",
       " 'https://hy.wikipedia.org/wiki/%D4%B3%D5%A5%D6%80%D5%B4%D5%A1%D5%B6%D5%AB%D5%A1',\n",
       " 'https://hyw.wikipedia.org/wiki/%D4%B3%D5%A5%D6%80%D5%B4%D5%A1%D5%B6%D5%AB%D5%A1',\n",
       " 'https://ia.wikipedia.org/wiki/Germania',\n",
       " 'https://id.wikipedia.org/wiki/Jerman',\n",
       " 'https://ie.wikipedia.org/wiki/Germania',\n",
       " 'https://ig.wikipedia.org/wiki/J%C3%A9man%E1%BB%8B',\n",
       " 'https://ilo.wikipedia.org/wiki/Alemania',\n",
       " 'https://inh.wikipedia.org/wiki/%D0%93%D0%B5%D1%80%D0%BC%D0%B0%D0%BD%D0%B8',\n",
       " 'https://io.wikipedia.org/wiki/Germania',\n",
       " 'https://is.wikipedia.org/wiki/%C3%9E%C3%BDskaland',\n",
       " 'https://it.wikipedia.org/wiki/Germania',\n",
       " 'https://iu.wikipedia.org/wiki/%E1%94%AE%E1%92%AA%E1%93%82',\n",
       " 'https://ja.wikipedia.org/wiki/%E3%83%89%E3%82%A4%E3%83%84',\n",
       " 'https://jam.wikipedia.org/wiki/Joermani',\n",
       " 'https://jbo.wikipedia.org/wiki/dotygu%27e',\n",
       " 'https://jv.wikipedia.org/wiki/Jerman',\n",
       " 'https://ka.wikipedia.org/wiki/%E1%83%92%E1%83%94%E1%83%A0%E1%83%9B%E1%83%90%E1%83%9C%E1%83%98%E1%83%90',\n",
       " 'https://kaa.wikipedia.org/wiki/Germaniya',\n",
       " 'https://kab.wikipedia.org/wiki/Lalman',\n",
       " 'https://kbd.wikipedia.org/wiki/%D0%94%D0%B6%D1%8D%D1%80%D0%BC%D1%8D%D0%BD',\n",
       " 'https://kbp.wikipedia.org/wiki/Caama',\n",
       " 'https://kg.wikipedia.org/wiki/Alemanyi',\n",
       " 'https://ki.wikipedia.org/wiki/Nj%C4%A9r%C4%A9mani',\n",
       " 'https://kk.wikipedia.org/wiki/%D0%93%D0%B5%D1%80%D0%BC%D0%B0%D0%BD%D0%B8%D1%8F',\n",
       " 'https://kl.wikipedia.org/wiki/Tyskit_Nunaat',\n",
       " 'https://km.wikipedia.org/wiki/%E1%9E%A2%E1%9E%B6%E1%9E%9B%E1%9F%92%E1%9E%9B%E1%9E%BA%E1%9E%98%E1%9F%89%E1%9E%84%E1%9F%8B',\n",
       " 'https://kn.wikipedia.org/wiki/%E0%B2%9C%E0%B2%B0%E0%B3%8D%E0%B2%AE%E0%B2%A8%E0%B2%BF',\n",
       " 'https://ko.wikipedia.org/wiki/%EB%8F%85%EC%9D%BC',\n",
       " 'https://koi.wikipedia.org/wiki/%D0%9D%D0%B5%D0%BC%D0%B5%D1%87%D0%BC%D1%83',\n",
       " 'https://krc.wikipedia.org/wiki/%D0%93%D0%B5%D1%80%D0%BC%D0%B0%D0%BD%D0%B8%D1%8F',\n",
       " 'https://ksh.wikipedia.org/wiki/D%C3%BCtschland',\n",
       " 'https://ku.wikipedia.org/wiki/Almanya',\n",
       " 'https://kv.wikipedia.org/wiki/%D0%93%D0%B5%D1%80%D0%BC%D0%B0%D0%BD%D0%B8%D1%8F',\n",
       " 'https://kw.wikipedia.org/wiki/Almayn',\n",
       " 'https://ky.wikipedia.org/wiki/%D0%93%D0%B5%D1%80%D0%BC%D0%B0%D0%BD%D0%B8%D1%8F',\n",
       " 'https://la.wikipedia.org/wiki/Germania',\n",
       " 'https://lad.wikipedia.org/wiki/Almania',\n",
       " 'https://lb.wikipedia.org/wiki/D%C3%A4itschland',\n",
       " 'https://lez.wikipedia.org/wiki/%D0%93%D0%B5%D1%80%D0%BC%D0%B0%D0%BD%D0%B8%D1%8F',\n",
       " 'https://lfn.wikipedia.org/wiki/Deutxland',\n",
       " 'https://lg.wikipedia.org/wiki/Girimane',\n",
       " 'https://li.wikipedia.org/wiki/Duitsland',\n",
       " 'https://lij.wikipedia.org/wiki/Germania',\n",
       " 'https://lmo.wikipedia.org/wiki/Germania',\n",
       " 'https://ln.wikipedia.org/wiki/Al%C3%A9mani',\n",
       " 'https://lo.wikipedia.org/wiki/%E0%BA%9B%E0%BA%B0%E0%BB%80%E0%BA%97%E0%BA%94%E0%BB%80%E0%BA%A2%E0%BA%8D%E0%BA%A5%E0%BA%B0%E0%BA%A1%E0%BA%B1%E0%BA%99',\n",
       " 'https://lrc.wikipedia.org/wiki/%D8%A2%D9%84%D9%85%D8%A7%D9%86',\n",
       " 'https://lt.wikipedia.org/wiki/Vokietija',\n",
       " 'https://ltg.wikipedia.org/wiki/Vuoceja',\n",
       " 'https://lv.wikipedia.org/wiki/V%C4%81cija',\n",
       " 'https://mai.wikipedia.org/wiki/%E0%A4%9C%E0%A4%B0%E0%A5%8D%E0%A4%AE%E0%A4%A8%E0%A5%80',\n",
       " 'https://map-bms.wikipedia.org/wiki/Jerman',\n",
       " 'https://mdf.wikipedia.org/wiki/%D0%93%D0%B5%D1%80%D0%BC%D0%B0%D0%BD%D0%B8%D0%B5_%D0%BC%D0%B0%D1%81%D1%82%D0%BE%D1%80',\n",
       " 'https://mg.wikipedia.org/wiki/Alemaina',\n",
       " 'https://mhr.wikipedia.org/wiki/%D0%9D%D0%B5%D0%BC%D1%8B%D1%87_%D0%AD%D0%BB',\n",
       " 'https://mi.wikipedia.org/wiki/Tiamana',\n",
       " 'https://min.wikipedia.org/wiki/Jerman',\n",
       " 'https://mk.wikipedia.org/wiki/%D0%93%D0%B5%D1%80%D0%BC%D0%B0%D0%BD%D0%B8%D1%98%D0%B0',\n",
       " 'https://ml.wikipedia.org/wiki/%E0%B4%9C%E0%B5%BC%E0%B4%AE%E0%B5%8D%E0%B4%AE%E0%B4%A8%E0%B4%BF',\n",
       " 'https://mn.wikipedia.org/wiki/%D0%93%D0%B5%D1%80%D0%BC%D0%B0%D0%BD',\n",
       " 'https://mr.wikipedia.org/wiki/%E0%A4%9C%E0%A4%B0%E0%A5%8D%E0%A4%AE%E0%A4%A8%E0%A5%80',\n",
       " 'https://ms.wikipedia.org/wiki/Jerman',\n",
       " 'https://mt.wikipedia.org/wiki/%C4%A0ermanja',\n",
       " 'https://mwl.wikipedia.org/wiki/Almanha',\n",
       " 'https://my.wikipedia.org/wiki/%E1%80%82%E1%80%BB%E1%80%AC%E1%80%99%E1%80%94%E1%80%AE%E1%80%94%E1%80%AD%E1%80%AF%E1%80%84%E1%80%BA%E1%80%84%E1%80%B6',\n",
       " 'https://myv.wikipedia.org/wiki/%D0%93%D0%B5%D1%80%D0%BC%D0%B0%D0%BD%D0%B8%D1%8F_%D0%9C%D0%B0%D1%81%D1%82%D0%BE%D1%80',\n",
       " 'https://mzn.wikipedia.org/wiki/%D8%A2%D9%84%D9%85%D8%A7%D9%86',\n",
       " 'https://na.wikipedia.org/wiki/Djermani',\n",
       " 'https://nah.wikipedia.org/wiki/Alemania',\n",
       " 'https://nap.wikipedia.org/wiki/Germania',\n",
       " 'https://nds-nl.wikipedia.org/wiki/Duutslaand',\n",
       " 'https://nds.wikipedia.org/wiki/D%C3%BC%C3%BCtschland',\n",
       " 'https://ne.wikipedia.org/wiki/%E0%A4%9C%E0%A4%B0%E0%A5%8D%E0%A4%AE%E0%A4%A8%E0%A5%80',\n",
       " 'https://new.wikipedia.org/wiki/%E0%A4%9C%E0%A4%B0%E0%A5%8D%E0%A4%AE%E0%A4%A8%E0%A5%80',\n",
       " 'https://nl.wikipedia.org/wiki/Duitsland',\n",
       " 'https://nn.wikipedia.org/wiki/Tyskland',\n",
       " 'https://no.wikipedia.org/wiki/Tyskland',\n",
       " 'https://nov.wikipedia.org/wiki/Germania',\n",
       " 'https://nqo.wikipedia.org/wiki/%DF%8A%DF%9F%DF%8F%DF%A1%DF%8A%DF%B2%DF%98%DF%8E%DF%AF',\n",
       " 'https://nrm.wikipedia.org/wiki/Allemangne',\n",
       " 'https://nso.wikipedia.org/wiki/Jeremane',\n",
       " 'https://nv.wikipedia.org/wiki/B%C3%A9%C3%A9sh_Bich%CA%BCahii_Bik%C3%A9yah',\n",
       " 'https://ny.wikipedia.org/wiki/Germany',\n",
       " 'https://oc.wikipedia.org/wiki/Alemanha',\n",
       " 'https://olo.wikipedia.org/wiki/Germuanii',\n",
       " 'https://om.wikipedia.org/wiki/Jarmanii',\n",
       " 'https://or.wikipedia.org/wiki/%E0%AC%9C%E0%AC%B0%E0%AD%8D%E0%AC%AE%E0%AC%BE%E0%AC%A8%E0%AD%80',\n",
       " 'https://os.wikipedia.org/wiki/%D0%93%D0%B5%D1%80%D0%BC%D0%B0%D0%BD',\n",
       " 'https://pa.wikipedia.org/wiki/%E0%A8%9C%E0%A8%B0%E0%A8%AE%E0%A8%A8%E0%A9%80',\n",
       " 'https://pag.wikipedia.org/wiki/Alemanya',\n",
       " 'https://pam.wikipedia.org/wiki/Alemanya',\n",
       " 'https://pap.wikipedia.org/wiki/Alemania',\n",
       " 'https://pcd.wikipedia.org/wiki/Alemanne',\n",
       " 'https://pdc.wikipedia.org/wiki/Deitschland',\n",
       " 'https://pfl.wikipedia.org/wiki/Deutschland',\n",
       " 'https://pi.wikipedia.org/wiki/%E0%A4%9C%E0%A4%B0%E0%A5%8D%E0%A4%AE%E0%A4%A8%E0%A5%80',\n",
       " 'https://pih.wikipedia.org/wiki/Doichland',\n",
       " 'https://pl.wikipedia.org/wiki/Niemcy',\n",
       " 'https://pms.wikipedia.org/wiki/Almagna',\n",
       " 'https://pnb.wikipedia.org/wiki/%D8%AC%D8%B1%D9%85%D9%86%DB%8C',\n",
       " 'https://pnt.wikipedia.org/wiki/%CE%93%CE%B5%CF%81%CE%BC%CE%B1%CE%BD%CE%AF%CE%B1',\n",
       " 'https://ps.wikipedia.org/wiki/%D8%A7%D9%84%D9%85%D8%A7%D9%86',\n",
       " 'https://pt.wikipedia.org/wiki/Alemanha',\n",
       " 'https://qu.wikipedia.org/wiki/Alimanya',\n",
       " 'https://rm.wikipedia.org/wiki/Germania',\n",
       " 'https://rmy.wikipedia.org/wiki/Jermaniya',\n",
       " 'https://rn.wikipedia.org/wiki/Ubudage',\n",
       " 'https://ro.wikipedia.org/wiki/Germania',\n",
       " 'https://roa-rup.wikipedia.org/wiki/Gherm%C3%A3nia',\n",
       " 'https://roa-tara.wikipedia.org/wiki/Germanie',\n",
       " 'https://ru.wikipedia.org/wiki/%D0%93%D0%B5%D1%80%D0%BC%D0%B0%D0%BD%D0%B8%D1%8F',\n",
       " 'https://rue.wikipedia.org/wiki/%D0%9D%D1%97%D0%BC%D0%B5%D1%86%D1%8C%D0%BA%D0%BE',\n",
       " 'https://rw.wikipedia.org/wiki/Ubudage',\n",
       " 'https://sa.wikipedia.org/wiki/%E0%A4%B6%E0%A4%B0%E0%A5%8D%E0%A4%AE%E0%A4%A3%E0%A5%8D%E0%A4%AF%E0%A4%A6%E0%A5%87%E0%A4%B6%E0%A4%83',\n",
       " 'https://sah.wikipedia.org/wiki/%D0%93%D0%B5%D1%80%D0%BC%D0%B0%D0%BD%D0%B8%D1%8F',\n",
       " 'https://sat.wikipedia.org/wiki/%E1%B1%A1%E1%B1%9F%E1%B1%A8%E1%B1%A2%E1%B1%9F%E1%B1%B1%E1%B1%A4',\n",
       " 'https://sc.wikipedia.org/wiki/Germania',\n",
       " 'https://scn.wikipedia.org/wiki/Girmania',\n",
       " 'https://sco.wikipedia.org/wiki/Germany',\n",
       " 'https://sd.wikipedia.org/wiki/%D8%AC%D8%B1%D9%85%D9%86%D9%8A',\n",
       " 'https://se.wikipedia.org/wiki/Duiska',\n",
       " 'https://sh.wikipedia.org/wiki/Njema%C4%8Dka',\n",
       " 'https://shn.wikipedia.org/wiki/%E1%80%99%E1%80%AD%E1%80%B0%E1%80%84%E1%80%BA%E1%80%B8%E1%81%B5%E1%80%BB%E1%82%83%E1%82%87%E1%80%99%E1%81%BC%E1%80%AE%E1%82%87',\n",
       " 'https://si.wikipedia.org/wiki/%E0%B6%A2%E0%B6%BB%E0%B7%8A%E0%B6%B8%E0%B6%B1%E0%B7%92%E0%B6%BA',\n",
       " 'https://simple.wikipedia.org/wiki/Germany',\n",
       " 'https://sk.wikipedia.org/wiki/Nemecko',\n",
       " 'https://sl.wikipedia.org/wiki/Nem%C4%8Dija',\n",
       " 'https://sm.wikipedia.org/wiki/Siamani',\n",
       " 'https://sn.wikipedia.org/wiki/Germany',\n",
       " 'https://so.wikipedia.org/wiki/Jarmalka',\n",
       " 'https://sq.wikipedia.org/wiki/Gjermania',\n",
       " 'https://sr.wikipedia.org/wiki/%D0%8A%D0%B5%D0%BC%D0%B0%D1%87%D0%BA%D0%B0',\n",
       " 'https://srn.wikipedia.org/wiki/Doysrikondre',\n",
       " 'https://ss.wikipedia.org/wiki/IJalimane',\n",
       " 'https://st.wikipedia.org/wiki/Jeremane',\n",
       " 'https://stq.wikipedia.org/wiki/D%C3%BC%C3%BCtsklound',\n",
       " 'https://su.wikipedia.org/wiki/J%C3%A9rman',\n",
       " 'https://sv.wikipedia.org/wiki/Tyskland',\n",
       " 'https://sw.wikipedia.org/wiki/Ujerumani',\n",
       " 'https://szl.wikipedia.org/wiki/Mjymcy',\n",
       " 'https://szy.wikipedia.org/wiki/Germany',\n",
       " 'https://ta.wikipedia.org/wiki/%E0%AE%9C%E0%AF%86%E0%AE%B0%E0%AF%8D%E0%AE%AE%E0%AE%A9%E0%AE%BF',\n",
       " 'https://tcy.wikipedia.org/wiki/%E0%B2%9C%E0%B2%B0%E0%B3%8D%E0%B2%AE%E0%B2%A8%E0%B2%BF',\n",
       " 'https://te.wikipedia.org/wiki/%E0%B0%9C%E0%B0%B0%E0%B1%8D%E0%B0%AE%E0%B0%A8%E0%B1%80',\n",
       " 'https://tet.wikipedia.org/wiki/Alema%C3%B1a',\n",
       " 'https://tg.wikipedia.org/wiki/%D0%9E%D0%BB%D0%BC%D0%BE%D0%BD',\n",
       " 'https://th.wikipedia.org/wiki/%E0%B8%9B%E0%B8%A3%E0%B8%B0%E0%B9%80%E0%B8%97%E0%B8%A8%E0%B9%80%E0%B8%A2%E0%B8%AD%E0%B8%A3%E0%B8%A1%E0%B8%99%E0%B8%B5',\n",
       " 'https://ti.wikipedia.org/wiki/%E1%8C%80%E1%88%AD%E1%88%98%E1%8A%95',\n",
       " 'https://tk.wikipedia.org/wiki/Germani%C3%BDa',\n",
       " 'https://tl.wikipedia.org/wiki/Alemanya',\n",
       " 'https://tpi.wikipedia.org/wiki/Siamani',\n",
       " 'https://tr.wikipedia.org/wiki/Almanya',\n",
       " 'https://ts.wikipedia.org/wiki/Jarimani',\n",
       " 'https://tt.wikipedia.org/wiki/%D0%90%D0%BB%D0%BC%D0%B0%D0%BD%D0%B8%D1%8F',\n",
       " 'https://tum.wikipedia.org/wiki/Germany',\n",
       " 'https://tw.wikipedia.org/wiki/Gyaaman',\n",
       " 'https://ty.wikipedia.org/wiki/Heremani',\n",
       " 'https://tyv.wikipedia.org/wiki/%D0%93%D0%B5%D1%80%D0%BC%D0%B0%D0%BD%D0%B8%D1%8F',\n",
       " 'https://udm.wikipedia.org/wiki/%D0%93%D0%B5%D1%80%D0%BC%D0%B0%D0%BD%D0%B8%D1%8F',\n",
       " 'https://ug.wikipedia.org/wiki/%DA%AF%DB%90%D8%B1%D9%85%D8%A7%D9%86%D9%89%D9%8A%DB%95',\n",
       " 'https://uk.wikipedia.org/wiki/%D0%9D%D1%96%D0%BC%D0%B5%D1%87%D1%87%D0%B8%D0%BD%D0%B0',\n",
       " 'https://ur.wikipedia.org/wiki/%D8%AC%D8%B1%D9%85%D9%86%DB%8C',\n",
       " 'https://uz.wikipedia.org/wiki/Germaniya',\n",
       " 'https://vec.wikipedia.org/wiki/Germania',\n",
       " 'https://vep.wikipedia.org/wiki/Saksanma',\n",
       " 'https://vi.wikipedia.org/wiki/%C4%90%E1%BB%A9c',\n",
       " 'https://vls.wikipedia.org/wiki/Duutsland',\n",
       " 'https://vo.wikipedia.org/wiki/Deut%C3%A4n',\n",
       " 'https://wa.wikipedia.org/wiki/Almagne',\n",
       " 'https://war.wikipedia.org/wiki/Alemanya',\n",
       " 'https://wo.wikipedia.org/wiki/Almaa%C3%B1',\n",
       " 'https://wuu.wikipedia.org/wiki/%E5%BE%B7%E5%9B%BD',\n",
       " 'https://xal.wikipedia.org/wiki/%D0%9D%D0%B8%D0%B8%D1%86%D3%99%D1%82%D3%99_%D0%9D%D0%B5%D0%BC%D1%88%D0%B8%D0%BD_%D0%9E%D1%80%D0%BD',\n",
       " 'https://xh.wikipedia.org/wiki/IJamani',\n",
       " 'https://xmf.wikipedia.org/wiki/%E1%83%92%E1%83%94%E1%83%A0%E1%83%9B%E1%83%90%E1%83%9C%E1%83%98%E1%83%90',\n",
       " 'https://yi.wikipedia.org/wiki/%D7%93%D7%99%D7%99%D7%98%D7%A9%D7%9C%D7%90%D7%A0%D7%93',\n",
       " 'https://yo.wikipedia.org/wiki/J%E1%BA%B9%CC%81m%C3%A1n%C3%AC',\n",
       " 'https://za.wikipedia.org/wiki/Dwzgoz',\n",
       " 'https://zea.wikipedia.org/wiki/Duutsland',\n",
       " 'https://zh-classical.wikipedia.org/wiki/%E5%BE%B7%E5%9C%8B',\n",
       " 'https://zh-min-nan.wikipedia.org/wiki/Tek-kok',\n",
       " 'https://zh-yue.wikipedia.org/wiki/%E5%BE%B7%E5%9C%8B',\n",
       " 'https://zh.wikipedia.org/wiki/%E5%BE%B7%E5%9B%BD',\n",
       " 'https://zu.wikipedia.org/wiki/IJalimani']"
      ]
     },
     "execution_count": 8,
     "metadata": {},
     "output_type": "execute_result"
    }
   ],
   "source": [
    "get_links(\"Germany\",\"en\")"
   ]
  },
  {
   "cell_type": "code",
   "execution_count": 9,
   "metadata": {},
   "outputs": [],
   "source": [
    "# soup.find_all(class_=\"interlanguage-link-target\",)[9]['href']\n",
    "# soup.find_all(class_=\"interlanguage-link-target\",)[0]\n",
    "# soup.find_all(class_=\"interlanguage-link-target\",)[0]['lang']\n",
    "# len_lang = len(soup.find_all(class_=\"interlanguage-link-target\",))\n",
    "# len_lang = 10\n",
    "# for i in range(len_lang):\n",
    "#     names = soup.find_all(class_=\"interlanguage-link-target\",)[i]['title']\n",
    "#     print(soup.find_all(class_=\"interlanguage-link-target\",)[i].get_text(),\n",
    "#           soup.find_all(class_=\"interlanguage-link-target\",)[i]['lang'],\n",
    "#           names.split(' ')[2])"
   ]
  },
  {
   "cell_type": "markdown",
   "metadata": {},
   "source": [
    "## c) Getting the same article in a different language edition (1.0)\n",
    "Write a funciton `switch_language(article_name, old_language_edition, new_language_edition)` that returns the name of the wikipedia article in the new language edition."
   ]
  },
  {
   "cell_type": "code",
   "execution_count": 10,
   "metadata": {},
   "outputs": [],
   "source": [
    "def switch_language(article_name, old_language_edition, new_language_edition):\n",
    "    page_content = get_article(article_name, old_language_edition)\n",
    "    # convert the string file to soup\n",
    "    soup = BeautifulSoup(page_content, 'html.parser')\n",
    "    wiki_new_lang = soup.find_all(class_=\"interlanguage-link-target\",lang=new_language_edition)\n",
    "    new_name_article = wiki_new_lang[0]['title'].split()[0]\n",
    "    return new_name_article\n",
    "    "
   ]
  },
  {
   "cell_type": "code",
   "execution_count": 14,
   "metadata": {},
   "outputs": [
    {
     "data": {
      "text/plain": [
       "'Deutschland'"
      ]
     },
     "execution_count": 14,
     "metadata": {},
     "output_type": "execute_result"
    }
   ],
   "source": [
    "switch_language(\"Germany\",\"en\", \"de\")"
   ]
  },
  {
   "cell_type": "code",
   "execution_count": 20,
   "metadata": {},
   "outputs": [
    {
     "data": {
      "text/plain": [
       "'Deutschland'"
      ]
     },
     "execution_count": 20,
     "metadata": {},
     "output_type": "execute_result"
    }
   ],
   "source": [
    "page_content = get_article(\"Germany\",\"en\")\n",
    "    # convert the string file to soup\n",
    "soup = BeautifulSoup(page_content, 'html.parser')\n",
    "wiki_new_lang = soup.find_all(class_=\"interlanguage-link-target\",lang=\"de\")\n",
    "wiki_new_lang[0].get_text().split()[0]\n",
    "wiki_new_lang = soup.find_all(class_=\"interlanguage-link-target\",lang=\"de\")\n",
    "wiki_new_lang[0]['title'].split()[0]"
   ]
  },
  {
   "cell_type": "code",
   "execution_count": 13,
   "metadata": {},
   "outputs": [],
   "source": [
    "# soup.find_all(class_=\"interlanguage-link-target\",)[9]['href']\n",
    "# soup.find_all(class_=\"interlanguage-link-target\",)[0]\n",
    "# soup.find_all(class_=\"interlanguage-link-target\",lang=\"de\")"
   ]
  },
  {
   "cell_type": "markdown",
   "metadata": {},
   "source": [
    "## d) Using regular expressions to extract years from a page content (1.5)\n",
    "Write a function `extract_years(string_input)` that gets a string and returns how often a certain year number from 1000-2019 occurs. You can assume that each number between 1000 and 2020 is a year number. The result is a dictionary with year numbers as keys, and the number of occurrences as values.\n",
    "\n",
    "Example: `extract_years(\"The king reigned from 1245 to 1268. He died in 1268. His favorite number was 12689\")` should return the dictionary `{1245: 1, 1268:2}`"
   ]
  },
  {
   "cell_type": "code",
   "execution_count": null,
   "metadata": {},
   "outputs": [],
   "source": []
  },
  {
   "cell_type": "markdown",
   "metadata": {},
   "source": [
    "## e) Aggregate years for articles (0.5)\n",
    "Write a function `extract_years_for_articles(article_names, language_edition)` that extracts the years counts for all the articles in that particular language edition and aggregates them into a single dictionary. This aggregated dictionary is returned."
   ]
  },
  {
   "cell_type": "code",
   "execution_count": null,
   "metadata": {},
   "outputs": [],
   "source": []
  },
  {
   "cell_type": "markdown",
   "metadata": {},
   "source": [
    "## f) Bringing it all together (1.5)\n",
    "Write a function `get_all_years(base_article, base_language_edition, n=None, target_language_edition=None)`\n",
    "\n",
    "- Determines 'real' base article (if target_language edition is specified, the article in the target language edition is used.)\n",
    "- extracts the first n links (all if n is None) from that 'real' base article\n",
    "- aggregates the year counts across the base article **and** all the n articles that the base article links to.\n",
    "- it then returns that dictionary"
   ]
  },
  {
   "cell_type": "code",
   "execution_count": null,
   "metadata": {},
   "outputs": [],
   "source": []
  },
  {
   "cell_type": "markdown",
   "metadata": {},
   "source": [
    "## g) Visualize and Interpret your results (1 + 1)\n",
    "Visualize the numbers of occurrences for the article History_of_Germany in both englisch (en) and german (de) in a timeline. Use `n=20`. Show the results here in the notebook and also save it to 'timeline.png' in code. Make sure the plot has a legend, axis labels, ...\n",
    "\n",
    "Describe the visualization, and give reasons for possible differences of the german and englisch timelines. Write that string to a file 'timeline.txt'"
   ]
  },
  {
   "cell_type": "code",
   "execution_count": null,
   "metadata": {},
   "outputs": [],
   "source": []
  },
  {
   "cell_type": "code",
   "execution_count": null,
   "metadata": {},
   "outputs": [],
   "source": []
  }
 ],
 "metadata": {
  "kernelspec": {
   "display_name": "Python 3",
   "language": "python",
   "name": "python3"
  },
  "language_info": {
   "codemirror_mode": {
    "name": "ipython",
    "version": 3
   },
   "file_extension": ".py",
   "mimetype": "text/x-python",
   "name": "python",
   "nbconvert_exporter": "python",
   "pygments_lexer": "ipython3",
   "version": "3.7.7"
  },
  "toc": {
   "colors": {
    "hover_highlight": "#DAA520",
    "navigate_num": "#000000",
    "navigate_text": "#333333",
    "running_highlight": "#FF0000",
    "selected_highlight": "#FFD700",
    "sidebar_border": "#EEEEEE",
    "wrapper_background": "#FFFFFF"
   },
   "moveMenuLeft": true,
   "nav_menu": {
    "height": "279px",
    "width": "252px"
   },
   "navigate_menu": true,
   "number_sections": true,
   "sideBar": true,
   "threshold": 4,
   "toc_cell": false,
   "toc_section_display": "block",
   "toc_window_display": false,
   "widenNotebook": false
  },
  "varInspector": {
   "cols": {
    "lenName": 16,
    "lenType": 16,
    "lenVar": 40
   },
   "kernels_config": {
    "python": {
     "delete_cmd_postfix": "",
     "delete_cmd_prefix": "del ",
     "library": "var_list.py",
     "varRefreshCmd": "print(var_dic_list())"
    },
    "r": {
     "delete_cmd_postfix": ") ",
     "delete_cmd_prefix": "rm(",
     "library": "var_list.r",
     "varRefreshCmd": "cat(var_dic_list()) "
    }
   },
   "types_to_exclude": [
    "module",
    "function",
    "builtin_function_or_method",
    "instance",
    "_Feature"
   ],
   "window_display": false
  }
 },
 "nbformat": 4,
 "nbformat_minor": 2
}
